{
  "nbformat": 4,
  "nbformat_minor": 0,
  "metadata": {
    "colab": {
      "provenance": [],
      "authorship_tag": "ABX9TyM92jwmDjgolOXS+mHeS6BG",
      "include_colab_link": true
    },
    "kernelspec": {
      "name": "python3",
      "display_name": "Python 3"
    },
    "language_info": {
      "name": "python"
    },
    "widgets": {
      "application/vnd.jupyter.widget-state+json": {
        "62a09e8e859e4e6fa9bea08a43204a03": {
          "model_module": "@jupyter-widgets/controls",
          "model_name": "VideoModel",
          "model_module_version": "1.5.0",
          "state": {
            "_dom_classes": [],
            "_model_module": "@jupyter-widgets/controls",
            "_model_module_version": "1.5.0",
            "_model_name": "VideoModel",
            "_view_count": null,
            "_view_module": "@jupyter-widgets/controls",
            "_view_module_version": "1.5.0",
            "_view_name": "VideoView",
            "autoplay": true,
            "controls": true,
            "format": "mp4",
            "height": "256",
            "layout": "IPY_MODEL_24cee4e8451746249b7b3dec091f59d6",
            "loop": true,
            "width": "256"
          }
        },
        "24cee4e8451746249b7b3dec091f59d6": {
          "model_module": "@jupyter-widgets/base",
          "model_name": "LayoutModel",
          "model_module_version": "1.2.0",
          "state": {
            "_model_module": "@jupyter-widgets/base",
            "_model_module_version": "1.2.0",
            "_model_name": "LayoutModel",
            "_view_count": null,
            "_view_module": "@jupyter-widgets/base",
            "_view_module_version": "1.2.0",
            "_view_name": "LayoutView",
            "align_content": null,
            "align_items": null,
            "align_self": null,
            "border": null,
            "bottom": null,
            "display": null,
            "flex": null,
            "flex_flow": null,
            "grid_area": null,
            "grid_auto_columns": null,
            "grid_auto_flow": null,
            "grid_auto_rows": null,
            "grid_column": null,
            "grid_gap": null,
            "grid_row": null,
            "grid_template_areas": null,
            "grid_template_columns": null,
            "grid_template_rows": null,
            "height": null,
            "justify_content": null,
            "justify_items": null,
            "left": null,
            "margin": null,
            "max_height": null,
            "max_width": null,
            "min_height": null,
            "min_width": null,
            "object_fit": null,
            "object_position": null,
            "order": null,
            "overflow": null,
            "overflow_x": null,
            "overflow_y": null,
            "padding": null,
            "right": null,
            "top": null,
            "visibility": null,
            "width": null
          }
        },
        "77202f620d1e4ee4ba4a75c758dbfd28": {
          "model_module": "@jupyter-widgets/controls",
          "model_name": "VideoModel",
          "model_module_version": "1.5.0",
          "state": {
            "_dom_classes": [],
            "_model_module": "@jupyter-widgets/controls",
            "_model_module_version": "1.5.0",
            "_model_name": "VideoModel",
            "_view_count": null,
            "_view_module": "@jupyter-widgets/controls",
            "_view_module_version": "1.5.0",
            "_view_name": "VideoView",
            "autoplay": true,
            "controls": true,
            "format": "mp4",
            "height": "256",
            "layout": "IPY_MODEL_6085a287d2e14955aa58bedd0007f9ae",
            "loop": true,
            "width": "256"
          }
        },
        "6085a287d2e14955aa58bedd0007f9ae": {
          "model_module": "@jupyter-widgets/base",
          "model_name": "LayoutModel",
          "model_module_version": "1.2.0",
          "state": {
            "_model_module": "@jupyter-widgets/base",
            "_model_module_version": "1.2.0",
            "_model_name": "LayoutModel",
            "_view_count": null,
            "_view_module": "@jupyter-widgets/base",
            "_view_module_version": "1.2.0",
            "_view_name": "LayoutView",
            "align_content": null,
            "align_items": null,
            "align_self": null,
            "border": null,
            "bottom": null,
            "display": null,
            "flex": null,
            "flex_flow": null,
            "grid_area": null,
            "grid_auto_columns": null,
            "grid_auto_flow": null,
            "grid_auto_rows": null,
            "grid_column": null,
            "grid_gap": null,
            "grid_row": null,
            "grid_template_areas": null,
            "grid_template_columns": null,
            "grid_template_rows": null,
            "height": null,
            "justify_content": null,
            "justify_items": null,
            "left": null,
            "margin": null,
            "max_height": null,
            "max_width": null,
            "min_height": null,
            "min_width": null,
            "object_fit": null,
            "object_position": null,
            "order": null,
            "overflow": null,
            "overflow_x": null,
            "overflow_y": null,
            "padding": null,
            "right": null,
            "top": null,
            "visibility": null,
            "width": null
          }
        }
      }
    }
  },
  "cells": [
    {
      "cell_type": "markdown",
      "metadata": {
        "id": "view-in-github",
        "colab_type": "text"
      },
      "source": [
        "<a href=\"https://colab.research.google.com/github/phytometrics/plant_phenotyping_python/blob/dev/aravib.ipynb\" target=\"_parent\"><img src=\"https://colab.research.google.com/assets/colab-badge.svg\" alt=\"Open In Colab\"/></a>"
      ]
    },
    {
      "cell_type": "markdown",
      "source": [
        " # Aravib:シロイヌナズナの茎振動の定量と解析\n",
        "\n",
        " ## ライセンス\n",
        "\n",
        " - High-Throughput Analysis of Arabidopsis Stem Vibrations to Identify Mutants With Altered Mechanical Properties. 2018. Front. Plant Sci.\n",
        "    - https://www.frontiersin.org/articles/10.3389/fpls.2018.00780/full\n",
        "    - CC-BYライセンス\n",
        "\n",
        " - 公式レポジトリ\n",
        "    - https://github.com/MTNakata/AraVib\n",
        "    - MITライセンス\n",
        "\n",
        "## 解説\n",
        "\n",
        "## 注意事項\n",
        "再実装にあたって解説のため一部コードを簡略化したり、書き換えたり、また、使用ライブラリを変更していることがあります。そのため、論文の結果と厳密に一致しないことに留意してください。"
      ],
      "metadata": {
        "id": "CIvOjDCiAtUj"
      }
    },
    {
      "cell_type": "markdown",
      "source": [
        "## 環境構築・データセット準備"
      ],
      "metadata": {
        "id": "NsdLt0TIAtO0"
      }
    },
    {
      "cell_type": "code",
      "source": [
        "!pip install ffmpeg-python"
      ],
      "metadata": {
        "colab": {
          "base_uri": "https://localhost:8080/"
        },
        "id": "-nsE3oYdrXJH",
        "outputId": "fb5f6048-af5c-4401-a073-b1273fa097cc"
      },
      "execution_count": 1,
      "outputs": [
        {
          "output_type": "stream",
          "name": "stdout",
          "text": [
            "Collecting ffmpeg-python\n",
            "  Downloading ffmpeg_python-0.2.0-py3-none-any.whl (25 kB)\n",
            "Requirement already satisfied: future in /usr/local/lib/python3.10/dist-packages (from ffmpeg-python) (0.18.3)\n",
            "Installing collected packages: ffmpeg-python\n",
            "Successfully installed ffmpeg-python-0.2.0\n"
          ]
        }
      ]
    },
    {
      "cell_type": "code",
      "execution_count": 2,
      "metadata": {
        "colab": {
          "base_uri": "https://localhost:8080/"
        },
        "id": "Wx2OZ2IRAr6v",
        "outputId": "243bd8c0-980a-43af-a961-66cda9074722"
      },
      "outputs": [
        {
          "output_type": "stream",
          "name": "stdout",
          "text": [
            "--2023-11-07 00:53:48--  https://ndownloader.figstatic.com/collections/4130561/versions/1\n",
            "Resolving ndownloader.figstatic.com (ndownloader.figstatic.com)... 34.246.107.109, 34.246.25.17, 2a05:d018:1f4:d000:5277:9134:99e9:b964, ...\n",
            "Connecting to ndownloader.figstatic.com (ndownloader.figstatic.com)|34.246.107.109|:443... connected.\n",
            "HTTP request sent, awaiting response... 200 OK\n",
            "Length: 20799764 (20M) [application/zip]\n",
            "Saving to: ‘data.zip’\n",
            "\n",
            "data.zip            100%[===================>]  19.84M  8.06MB/s    in 2.5s    \n",
            "\n",
            "2023-11-07 00:53:52 (8.06 MB/s) - ‘data.zip’ saved [20799764/20799764]\n",
            "\n",
            "Archive:  data.zip\n",
            " extracting: data/Presentation_1_High-Throughput Analysis of Arabidopsis Stem Vibrations to Identify Mutants With Altered Mechanical Properties.PDF  \n",
            " extracting: data/Video_1_High-Throughput Analysis of Arabidopsis Stem Vibrations to Identify Mutants With Altered Mechanical Properties.MP4  \n",
            " extracting: data/Video_2_High-Throughput Analysis of Arabidopsis Stem Vibrations to Identify Mutants With Altered Mechanical Properties.MP4  \n",
            " extracting: data/Video_3_High-Throughput Analysis of Arabidopsis Stem Vibrations to Identify Mutants With Altered Mechanical Properties.MP4  \n",
            " extracting: data/Video_4_High-Throughput Analysis of Arabidopsis Stem Vibrations to Identify Mutants With Altered Mechanical Properties.MP4  \n",
            " extracting: data/Video_5_High-Throughput Analysis of Arabidopsis Stem Vibrations to Identify Mutants With Altered Mechanical Properties.MP4  \n",
            " extracting: data/Video_6_High-Throughput Analysis of Arabidopsis Stem Vibrations to Identify Mutants With Altered Mechanical Properties.MP4  \n",
            " extracting: data/Video_7_High-Throughput Analysis of Arabidopsis Stem Vibrations to Identify Mutants With Altered Mechanical Properties.MP4  \n",
            " extracting: data/Video_8_High-Throughput Analysis of Arabidopsis Stem Vibrations to Identify Mutants With Altered Mechanical Properties.MP4  \n"
          ]
        }
      ],
      "source": [
        "# frontiers in plant science 公式リンク\n",
        "!wget -O data.zip https://ndownloader.figstatic.com/collections/4130561/versions/1\n",
        "!unzip data.zip -d data\n",
        "# !git clone https://github.com/MTNakata/AraVib"
      ]
    },
    {
      "cell_type": "code",
      "source": [
        "# ファイル名を正規化します。\n",
        "import os\n",
        "\n",
        "folder_path = '/content/data'\n",
        "files = os.listdir(folder_path)\n",
        "for i, file_name in enumerate(files):\n",
        "    new_file_name = f'video{i+1}.mp4'\n",
        "    old_file_path = os.path.join(folder_path, file_name)\n",
        "    new_file_path = os.path.join(folder_path, new_file_name)\n",
        "    os.rename(old_file_path, new_file_path)  # Rename the file"
      ],
      "metadata": {
        "id": "XCoOUq5pChOS"
      },
      "execution_count": 3,
      "outputs": []
    },
    {
      "cell_type": "markdown",
      "source": [
        "## Step by Step 実装"
      ],
      "metadata": {
        "id": "j5HWXF96B0r_"
      }
    },
    {
      "cell_type": "code",
      "source": [
        "from ipywidgets import Video\n",
        "\n",
        "path = \"/content/data/video1.mp4\"\n",
        "Video.from_file(path, width=256, height=256)"
      ],
      "metadata": {
        "colab": {
          "base_uri": "https://localhost:8080/",
          "height": 238,
          "referenced_widgets": [
            "62a09e8e859e4e6fa9bea08a43204a03",
            "24cee4e8451746249b7b3dec091f59d6"
          ]
        },
        "id": "BipQC8R1CQLH",
        "outputId": "8df43116-bd0e-46a7-83ff-bcc8de81c9bb"
      },
      "execution_count": 4,
      "outputs": [
        {
          "output_type": "display_data",
          "data": {
            "text/plain": [
              "Video(value=b'\\x00\\x00\\x00 ftypisom\\x00\\x00\\x02\\x00isomiso2avc1mp41\\x00\\x00\\x00\\x08free\\x00\\x10\\xce\\x11mdat\\x0…"
            ],
            "application/vnd.jupyter.widget-view+json": {
              "version_major": 2,
              "version_minor": 0,
              "model_id": "62a09e8e859e4e6fa9bea08a43204a03"
            }
          },
          "metadata": {}
        }
      ]
    },
    {
      "cell_type": "code",
      "source": [
        "# 動画からフレーム画像の読み込み\n",
        "import cv2\n",
        "import numpy as np\n",
        "# Open the MP4 file\n",
        "video = cv2.VideoCapture(path)\n",
        "\n",
        "# Iterate through each frame and obtain images as list\n",
        "frames = []\n",
        "while video.isOpened():\n",
        "    # Read the next frame\n",
        "    ret, frame = video.read()\n",
        "    if ret == False:\n",
        "        break\n",
        "    frames.append(frame)\n",
        "video.release()\n",
        "frames = np.array(frames)\n",
        "print(frames.shape)"
      ],
      "metadata": {
        "colab": {
          "base_uri": "https://localhost:8080/"
        },
        "id": "5I8Y0zlPKV9a",
        "outputId": "98cd516d-b76c-4e19-a468-92a0e045233a"
      },
      "execution_count": 5,
      "outputs": [
        {
          "output_type": "stream",
          "name": "stdout",
          "text": [
            "(720, 600, 720, 3)\n"
          ]
        }
      ]
    },
    {
      "cell_type": "markdown",
      "source": [
        "video1.mp4をnumpy imagesに変換すると、720枚、高さ600px,\n",
        "幅720pxの画像セットに変換されることがわかりました。"
      ],
      "metadata": {
        "id": "2mG86xm1NWCo"
      }
    },
    {
      "cell_type": "code",
      "source": [
        "from skimage.measure import label, regionprops\n",
        "import pandas as pd\n",
        "\n",
        "def red_region_detection(frames, h=[5,165], s=60, v=90):\n",
        "    # Define lower and upper bounds for HSV values for the lower red range\n",
        "    lower_bound1 = np.array([0, s, v])\n",
        "    upper_bound1 = np.array([h[0], 255, 255])\n",
        "    # Define lower and upper bounds for HSV values for the upper red range\n",
        "    lower_bound2 = np.array([h[1], s,v])\n",
        "    upper_bound2 = np.array([180, 255, 255])\n",
        "    # Kernel for noise removal\n",
        "    kernel1 = np.ones((2,2),np.uint8)\n",
        "    kernel2 = np.ones((15,15),np.uint8)\n",
        "\n",
        "    red_bws = []  # red object as bright pixel binary\n",
        "\n",
        "    for frame in frames:\n",
        "        # red region detection\n",
        "        img_hsv = cv2.cvtColor(frame[0:600,...], cv2.COLOR_BGR2HSV)\n",
        "        blur = cv2.blur(img_hsv,(3,3))\n",
        "        binary_mask1 = cv2.inRange(blur, lower_bound1, upper_bound1)\n",
        "        binary_mask2 = cv2.inRange(blur, lower_bound2, upper_bound2)\n",
        "        binary_mask = cv2.bitwise_or(binary_mask1, binary_mask2)\n",
        "        # noise removal\n",
        "        erosion = cv2.erode(binary_mask.astype(np.uint8)*255, kernel1, iterations=1)\n",
        "        bw = cv2.dilate(erosion,kernel2,iterations=1)\n",
        "        red_bws.append(bw)\n",
        "    return np.array(red_bws)\n",
        "\n",
        "def convert_to_coords(frames):\n",
        "    coords = []\n",
        "    for frame in frames:\n",
        "        contours, _ = cv2.findContours(frame, cv2.RETR_EXTERNAL, cv2.CHAIN_APPROX_SIMPLE)\n",
        "        # if a single contour is detected, obtain the moment coordinate\n",
        "        if len(contours) == 1:\n",
        "            cnt = contours[0]\n",
        "            M = cv2.moments(cnt)\n",
        "            coord = [int(M['m10']/M['m00']),int(M['m01']/M['m00'])]\n",
        "        else:\n",
        "            coord = [np.nan, np.nan]\n",
        "        coords.append(coord)\n",
        "    df_coords = pd.DataFrame(coords, columns=['x', 'y'])\n",
        "    return df_coords\n",
        "\n",
        "\n",
        "red_bws = red_region_detection(frames)\n",
        "df = convert_to_coords(red_bws)\n",
        "df = df.interpolate()  # 検出不良フレームの線形補完\n",
        "df"
      ],
      "metadata": {
        "colab": {
          "base_uri": "https://localhost:8080/",
          "height": 424
        },
        "id": "DP__CFImNldv",
        "outputId": "fed8233b-19f6-4e36-e004-16ead73618c5"
      },
      "execution_count": 63,
      "outputs": [
        {
          "output_type": "execute_result",
          "data": {
            "text/plain": [
              "         x      y\n",
              "0    593.0  214.0\n",
              "1    593.0  214.0\n",
              "2    593.0  213.0\n",
              "3    593.0  213.0\n",
              "4    593.0  213.0\n",
              "..     ...    ...\n",
              "715  325.0  179.0\n",
              "716  326.0  179.0\n",
              "717  327.0  178.0\n",
              "718  327.0  178.0\n",
              "719  326.0  179.0\n",
              "\n",
              "[720 rows x 2 columns]"
            ],
            "text/html": [
              "\n",
              "  <div id=\"df-93f4351b-d4c7-41ad-ba45-435b583ff8d0\" class=\"colab-df-container\">\n",
              "    <div>\n",
              "<style scoped>\n",
              "    .dataframe tbody tr th:only-of-type {\n",
              "        vertical-align: middle;\n",
              "    }\n",
              "\n",
              "    .dataframe tbody tr th {\n",
              "        vertical-align: top;\n",
              "    }\n",
              "\n",
              "    .dataframe thead th {\n",
              "        text-align: right;\n",
              "    }\n",
              "</style>\n",
              "<table border=\"1\" class=\"dataframe\">\n",
              "  <thead>\n",
              "    <tr style=\"text-align: right;\">\n",
              "      <th></th>\n",
              "      <th>x</th>\n",
              "      <th>y</th>\n",
              "    </tr>\n",
              "  </thead>\n",
              "  <tbody>\n",
              "    <tr>\n",
              "      <th>0</th>\n",
              "      <td>593.0</td>\n",
              "      <td>214.0</td>\n",
              "    </tr>\n",
              "    <tr>\n",
              "      <th>1</th>\n",
              "      <td>593.0</td>\n",
              "      <td>214.0</td>\n",
              "    </tr>\n",
              "    <tr>\n",
              "      <th>2</th>\n",
              "      <td>593.0</td>\n",
              "      <td>213.0</td>\n",
              "    </tr>\n",
              "    <tr>\n",
              "      <th>3</th>\n",
              "      <td>593.0</td>\n",
              "      <td>213.0</td>\n",
              "    </tr>\n",
              "    <tr>\n",
              "      <th>4</th>\n",
              "      <td>593.0</td>\n",
              "      <td>213.0</td>\n",
              "    </tr>\n",
              "    <tr>\n",
              "      <th>...</th>\n",
              "      <td>...</td>\n",
              "      <td>...</td>\n",
              "    </tr>\n",
              "    <tr>\n",
              "      <th>715</th>\n",
              "      <td>325.0</td>\n",
              "      <td>179.0</td>\n",
              "    </tr>\n",
              "    <tr>\n",
              "      <th>716</th>\n",
              "      <td>326.0</td>\n",
              "      <td>179.0</td>\n",
              "    </tr>\n",
              "    <tr>\n",
              "      <th>717</th>\n",
              "      <td>327.0</td>\n",
              "      <td>178.0</td>\n",
              "    </tr>\n",
              "    <tr>\n",
              "      <th>718</th>\n",
              "      <td>327.0</td>\n",
              "      <td>178.0</td>\n",
              "    </tr>\n",
              "    <tr>\n",
              "      <th>719</th>\n",
              "      <td>326.0</td>\n",
              "      <td>179.0</td>\n",
              "    </tr>\n",
              "  </tbody>\n",
              "</table>\n",
              "<p>720 rows × 2 columns</p>\n",
              "</div>\n",
              "    <div class=\"colab-df-buttons\">\n",
              "\n",
              "  <div class=\"colab-df-container\">\n",
              "    <button class=\"colab-df-convert\" onclick=\"convertToInteractive('df-93f4351b-d4c7-41ad-ba45-435b583ff8d0')\"\n",
              "            title=\"Convert this dataframe to an interactive table.\"\n",
              "            style=\"display:none;\">\n",
              "\n",
              "  <svg xmlns=\"http://www.w3.org/2000/svg\" height=\"24px\" viewBox=\"0 -960 960 960\">\n",
              "    <path d=\"M120-120v-720h720v720H120Zm60-500h600v-160H180v160Zm220 220h160v-160H400v160Zm0 220h160v-160H400v160ZM180-400h160v-160H180v160Zm440 0h160v-160H620v160ZM180-180h160v-160H180v160Zm440 0h160v-160H620v160Z\"/>\n",
              "  </svg>\n",
              "    </button>\n",
              "\n",
              "  <style>\n",
              "    .colab-df-container {\n",
              "      display:flex;\n",
              "      gap: 12px;\n",
              "    }\n",
              "\n",
              "    .colab-df-convert {\n",
              "      background-color: #E8F0FE;\n",
              "      border: none;\n",
              "      border-radius: 50%;\n",
              "      cursor: pointer;\n",
              "      display: none;\n",
              "      fill: #1967D2;\n",
              "      height: 32px;\n",
              "      padding: 0 0 0 0;\n",
              "      width: 32px;\n",
              "    }\n",
              "\n",
              "    .colab-df-convert:hover {\n",
              "      background-color: #E2EBFA;\n",
              "      box-shadow: 0px 1px 2px rgba(60, 64, 67, 0.3), 0px 1px 3px 1px rgba(60, 64, 67, 0.15);\n",
              "      fill: #174EA6;\n",
              "    }\n",
              "\n",
              "    .colab-df-buttons div {\n",
              "      margin-bottom: 4px;\n",
              "    }\n",
              "\n",
              "    [theme=dark] .colab-df-convert {\n",
              "      background-color: #3B4455;\n",
              "      fill: #D2E3FC;\n",
              "    }\n",
              "\n",
              "    [theme=dark] .colab-df-convert:hover {\n",
              "      background-color: #434B5C;\n",
              "      box-shadow: 0px 1px 3px 1px rgba(0, 0, 0, 0.15);\n",
              "      filter: drop-shadow(0px 1px 2px rgba(0, 0, 0, 0.3));\n",
              "      fill: #FFFFFF;\n",
              "    }\n",
              "  </style>\n",
              "\n",
              "    <script>\n",
              "      const buttonEl =\n",
              "        document.querySelector('#df-93f4351b-d4c7-41ad-ba45-435b583ff8d0 button.colab-df-convert');\n",
              "      buttonEl.style.display =\n",
              "        google.colab.kernel.accessAllowed ? 'block' : 'none';\n",
              "\n",
              "      async function convertToInteractive(key) {\n",
              "        const element = document.querySelector('#df-93f4351b-d4c7-41ad-ba45-435b583ff8d0');\n",
              "        const dataTable =\n",
              "          await google.colab.kernel.invokeFunction('convertToInteractive',\n",
              "                                                    [key], {});\n",
              "        if (!dataTable) return;\n",
              "\n",
              "        const docLinkHtml = 'Like what you see? Visit the ' +\n",
              "          '<a target=\"_blank\" href=https://colab.research.google.com/notebooks/data_table.ipynb>data table notebook</a>'\n",
              "          + ' to learn more about interactive tables.';\n",
              "        element.innerHTML = '';\n",
              "        dataTable['output_type'] = 'display_data';\n",
              "        await google.colab.output.renderOutput(dataTable, element);\n",
              "        const docLink = document.createElement('div');\n",
              "        docLink.innerHTML = docLinkHtml;\n",
              "        element.appendChild(docLink);\n",
              "      }\n",
              "    </script>\n",
              "  </div>\n",
              "\n",
              "\n",
              "<div id=\"df-ab569571-fc24-4164-acef-c094b749c36e\">\n",
              "  <button class=\"colab-df-quickchart\" onclick=\"quickchart('df-ab569571-fc24-4164-acef-c094b749c36e')\"\n",
              "            title=\"Suggest charts.\"\n",
              "            style=\"display:none;\">\n",
              "\n",
              "<svg xmlns=\"http://www.w3.org/2000/svg\" height=\"24px\"viewBox=\"0 0 24 24\"\n",
              "     width=\"24px\">\n",
              "    <g>\n",
              "        <path d=\"M19 3H5c-1.1 0-2 .9-2 2v14c0 1.1.9 2 2 2h14c1.1 0 2-.9 2-2V5c0-1.1-.9-2-2-2zM9 17H7v-7h2v7zm4 0h-2V7h2v10zm4 0h-2v-4h2v4z\"/>\n",
              "    </g>\n",
              "</svg>\n",
              "  </button>\n",
              "\n",
              "<style>\n",
              "  .colab-df-quickchart {\n",
              "      --bg-color: #E8F0FE;\n",
              "      --fill-color: #1967D2;\n",
              "      --hover-bg-color: #E2EBFA;\n",
              "      --hover-fill-color: #174EA6;\n",
              "      --disabled-fill-color: #AAA;\n",
              "      --disabled-bg-color: #DDD;\n",
              "  }\n",
              "\n",
              "  [theme=dark] .colab-df-quickchart {\n",
              "      --bg-color: #3B4455;\n",
              "      --fill-color: #D2E3FC;\n",
              "      --hover-bg-color: #434B5C;\n",
              "      --hover-fill-color: #FFFFFF;\n",
              "      --disabled-bg-color: #3B4455;\n",
              "      --disabled-fill-color: #666;\n",
              "  }\n",
              "\n",
              "  .colab-df-quickchart {\n",
              "    background-color: var(--bg-color);\n",
              "    border: none;\n",
              "    border-radius: 50%;\n",
              "    cursor: pointer;\n",
              "    display: none;\n",
              "    fill: var(--fill-color);\n",
              "    height: 32px;\n",
              "    padding: 0;\n",
              "    width: 32px;\n",
              "  }\n",
              "\n",
              "  .colab-df-quickchart:hover {\n",
              "    background-color: var(--hover-bg-color);\n",
              "    box-shadow: 0 1px 2px rgba(60, 64, 67, 0.3), 0 1px 3px 1px rgba(60, 64, 67, 0.15);\n",
              "    fill: var(--button-hover-fill-color);\n",
              "  }\n",
              "\n",
              "  .colab-df-quickchart-complete:disabled,\n",
              "  .colab-df-quickchart-complete:disabled:hover {\n",
              "    background-color: var(--disabled-bg-color);\n",
              "    fill: var(--disabled-fill-color);\n",
              "    box-shadow: none;\n",
              "  }\n",
              "\n",
              "  .colab-df-spinner {\n",
              "    border: 2px solid var(--fill-color);\n",
              "    border-color: transparent;\n",
              "    border-bottom-color: var(--fill-color);\n",
              "    animation:\n",
              "      spin 1s steps(1) infinite;\n",
              "  }\n",
              "\n",
              "  @keyframes spin {\n",
              "    0% {\n",
              "      border-color: transparent;\n",
              "      border-bottom-color: var(--fill-color);\n",
              "      border-left-color: var(--fill-color);\n",
              "    }\n",
              "    20% {\n",
              "      border-color: transparent;\n",
              "      border-left-color: var(--fill-color);\n",
              "      border-top-color: var(--fill-color);\n",
              "    }\n",
              "    30% {\n",
              "      border-color: transparent;\n",
              "      border-left-color: var(--fill-color);\n",
              "      border-top-color: var(--fill-color);\n",
              "      border-right-color: var(--fill-color);\n",
              "    }\n",
              "    40% {\n",
              "      border-color: transparent;\n",
              "      border-right-color: var(--fill-color);\n",
              "      border-top-color: var(--fill-color);\n",
              "    }\n",
              "    60% {\n",
              "      border-color: transparent;\n",
              "      border-right-color: var(--fill-color);\n",
              "    }\n",
              "    80% {\n",
              "      border-color: transparent;\n",
              "      border-right-color: var(--fill-color);\n",
              "      border-bottom-color: var(--fill-color);\n",
              "    }\n",
              "    90% {\n",
              "      border-color: transparent;\n",
              "      border-bottom-color: var(--fill-color);\n",
              "    }\n",
              "  }\n",
              "</style>\n",
              "\n",
              "  <script>\n",
              "    async function quickchart(key) {\n",
              "      const quickchartButtonEl =\n",
              "        document.querySelector('#' + key + ' button');\n",
              "      quickchartButtonEl.disabled = true;  // To prevent multiple clicks.\n",
              "      quickchartButtonEl.classList.add('colab-df-spinner');\n",
              "      try {\n",
              "        const charts = await google.colab.kernel.invokeFunction(\n",
              "            'suggestCharts', [key], {});\n",
              "      } catch (error) {\n",
              "        console.error('Error during call to suggestCharts:', error);\n",
              "      }\n",
              "      quickchartButtonEl.classList.remove('colab-df-spinner');\n",
              "      quickchartButtonEl.classList.add('colab-df-quickchart-complete');\n",
              "    }\n",
              "    (() => {\n",
              "      let quickchartButtonEl =\n",
              "        document.querySelector('#df-ab569571-fc24-4164-acef-c094b749c36e button');\n",
              "      quickchartButtonEl.style.display =\n",
              "        google.colab.kernel.accessAllowed ? 'block' : 'none';\n",
              "    })();\n",
              "  </script>\n",
              "</div>\n",
              "    </div>\n",
              "  </div>\n"
            ]
          },
          "metadata": {},
          "execution_count": 63
        }
      ]
    },
    {
      "cell_type": "markdown",
      "source": [
        "検出座標を可視化してみましょう"
      ],
      "metadata": {
        "id": "vZWAvi7ogLA7"
      }
    },
    {
      "cell_type": "code",
      "source": [
        "import numpy as np\n",
        "from ipywidgets import Video\n",
        "import tempfile\n",
        "import ffmpeg\n",
        "from tqdm import tqdm\n",
        "from collections import deque\n",
        "\n",
        "with tempfile.TemporaryDirectory() as temp_dir:\n",
        "    my_deques = deque(maxlen=500)\n",
        "    for i, frame in tqdm(enumerate(frames)):\n",
        "        _frame = frame.copy()\n",
        "\n",
        "        # 過去のフレームの位置を半透明で描画\n",
        "        for j, coord in enumerate(list(my_deques)):\n",
        "            x2, y2 = coord\n",
        "            if not pd.isna(x2) and not pd.isna(y2):\n",
        "                x2 = int(x2)\n",
        "                y2 = int(y2)\n",
        "                alpha = np.max([0, 1 - 0.1*(j+1)])\n",
        "                if alpha > 0:\n",
        "                    overlay = _frame.copy()\n",
        "                    overlay = cv2.circle(overlay, (x2, y2), 8, (255, 0, 0), thickness=-1)\n",
        "                    _frame = cv2.addWeighted(overlay, alpha, _frame, 1-alpha, 0)\n",
        "\n",
        "        # 現在のフレームの位置を描画\n",
        "        x1, y1 = df.loc[i]\n",
        "        if not pd.isna(x1) and not pd.isna(y1):\n",
        "            x1 = int(x1)\n",
        "            y1 = int(y1)\n",
        "            _frame = cv2.circle(_frame, (x1, y1), 10, (0, 0, 255), thickness=-1)\n",
        "        my_deques.appendleft([x1,y1])\n",
        "\n",
        "        frame_filename = f\"{temp_dir}/frame_{i:04d}.png\"\n",
        "        _frame = cv2.resize(_frame, dsize=None, fx=0.25, fy=0.25)\n",
        "        cv2.imwrite(frame_filename, _frame)\n",
        "    try:\n",
        "        (\n",
        "            ffmpeg\n",
        "            .input(f\"{temp_dir}/frame_%04d.png\", framerate=30)\n",
        "            .output('/content/animation.mp4')\n",
        "            .run(capture_stdout=True, capture_stderr=True)\n",
        "        )\n",
        "    except ffmpeg.Error as e:\n",
        "        print(e.stdout.decode(\"utf8\"))\n",
        "        print(e.stderr.decode(\"utf8\"))\n",
        "\n",
        "Video.from_file('/content/animation.mp4', width=256, height=256)"
      ],
      "metadata": {
        "colab": {
          "base_uri": "https://localhost:8080/",
          "height": 579,
          "referenced_widgets": [
            "77202f620d1e4ee4ba4a75c758dbfd28",
            "6085a287d2e14955aa58bedd0007f9ae"
          ]
        },
        "id": "WgDoC3tsUEvD",
        "outputId": "677f8bd5-0349-41ad-d1ad-2ae7471d35c0"
      },
      "execution_count": 29,
      "outputs": [
        {
          "output_type": "stream",
          "name": "stderr",
          "text": [
            "720it [00:08, 85.78it/s]\n"
          ]
        },
        {
          "output_type": "stream",
          "name": "stdout",
          "text": [
            "\n",
            "ffmpeg version 4.4.2-0ubuntu0.22.04.1 Copyright (c) 2000-2021 the FFmpeg developers\n",
            "  built with gcc 11 (Ubuntu 11.2.0-19ubuntu1)\n",
            "  configuration: --prefix=/usr --extra-version=0ubuntu0.22.04.1 --toolchain=hardened --libdir=/usr/lib/x86_64-linux-gnu --incdir=/usr/include/x86_64-linux-gnu --arch=amd64 --enable-gpl --disable-stripping --enable-gnutls --enable-ladspa --enable-libaom --enable-libass --enable-libbluray --enable-libbs2b --enable-libcaca --enable-libcdio --enable-libcodec2 --enable-libdav1d --enable-libflite --enable-libfontconfig --enable-libfreetype --enable-libfribidi --enable-libgme --enable-libgsm --enable-libjack --enable-libmp3lame --enable-libmysofa --enable-libopenjpeg --enable-libopenmpt --enable-libopus --enable-libpulse --enable-librabbitmq --enable-librubberband --enable-libshine --enable-libsnappy --enable-libsoxr --enable-libspeex --enable-libsrt --enable-libssh --enable-libtheora --enable-libtwolame --enable-libvidstab --enable-libvorbis --enable-libvpx --enable-libwebp --enable-libx265 --enable-libxml2 --enable-libxvid --enable-libzimg --enable-libzmq --enable-libzvbi --enable-lv2 --enable-omx --enable-openal --enable-opencl --enable-opengl --enable-sdl2 --enable-pocketsphinx --enable-librsvg --enable-libmfx --enable-libdc1394 --enable-libdrm --enable-libiec61883 --enable-chromaprint --enable-frei0r --enable-libx264 --enable-shared\n",
            "  libavutil      56. 70.100 / 56. 70.100\n",
            "  libavcodec     58.134.100 / 58.134.100\n",
            "  libavformat    58. 76.100 / 58. 76.100\n",
            "  libavdevice    58. 13.100 / 58. 13.100\n",
            "  libavfilter     7.110.100 /  7.110.100\n",
            "  libswscale      5.  9.100 /  5.  9.100\n",
            "  libswresample   3.  9.100 /  3.  9.100\n",
            "  libpostproc    55.  9.100 / 55.  9.100\n",
            "Input #0, image2, from '/tmp/tmpmm7jio42/frame_%04d.png':\n",
            "  Duration: 00:00:24.00, start: 0.000000, bitrate: N/A\n",
            "  Stream #0:0: Video: png, rgb24(pc), 180x150, 30 fps, 30 tbr, 30 tbn, 30 tbc\n",
            "File '/content/animation.mp4' already exists. Overwrite? [y/N] Not overwriting - exiting\n",
            "\n"
          ]
        },
        {
          "output_type": "display_data",
          "data": {
            "text/plain": [
              "Video(value=b'\\x00\\x00\\x00 ftypisom\\x00\\x00\\x02\\x00isomiso2avc1mp41\\x00\\x00\\x00\\x08free\\x00\\x01<\\xe6mdat\\x00\\x…"
            ],
            "application/vnd.jupyter.widget-view+json": {
              "version_major": 2,
              "version_minor": 0,
              "model_id": "77202f620d1e4ee4ba4a75c758dbfd28"
            }
          },
          "metadata": {}
        }
      ]
    },
    {
      "cell_type": "code",
      "source": [
        "from scipy.fft import fft\n",
        "from scipy.signal import hann\n",
        "\n",
        "def displacement_to_neutral(df):\n",
        "    df['norm'] = np.sqrt(df['x']**2 + df['y']**2)\n",
        "    median_norm = df['norm'].median()\n",
        "    df['displacement'] = median_norm - df['norm']\n",
        "    df.drop('norm', axis=1, inplace=True)\n",
        "    return df\n",
        "\n",
        "def delta_movement(df):\n",
        "    df['displacement_copy'] = df['displacement']\n",
        "    df['rolled'] = np.roll(df['displacement_copy'], -1)\n",
        "    df['dif'] = df['displacement_copy'] - df['rolled']\n",
        "    df = df[:-1]\n",
        "    df = df.drop(['displacement_copy', 'rolled'], axis=1)\n",
        "    return df\n",
        "\n",
        "def hanning_preprocess(df):\n",
        "    hanning_window = hann(len(df))\n",
        "    df[\"hanning\"] = df[\"dif\"].values * hanning_window\n",
        "    return df\n",
        "\n",
        "def fourier_transform(df):\n",
        "    T = 1.0 / 240.0\n",
        "    xf = np.linspace(0.0, 1.0/(2.0*T), len(df)//2)\n",
        "    yf = fft(df[\"hanning\"].values)\n",
        "    spectrum = 2.0/len(df) * np.abs(yf[:len(df)//2])\n",
        "    return xf, spectrum\n",
        "\n",
        "\n",
        "aravib_df = displacement_to_neutral(df.copy())\n",
        "aravib_df = delta_movement(aravib_df)\n",
        "aravib_df = hanning_preprocess(aravib_df)\n",
        "xf, spectrum = fourier_transform(aravib_df)\n",
        "# Find the frequency corresponding to the maximum value in the windowed amplitude spectrum\n",
        "max_amplitude = np.max(spectrum)\n",
        "max_frequency = xf[np.argmax(spectrum)]"
      ],
      "metadata": {
        "colab": {
          "base_uri": "https://localhost:8080/"
        },
        "id": "jAS--Oy-x9Wk",
        "outputId": "77698637-d361-40e9-b0cb-81376a1a7bd8"
      },
      "execution_count": 57,
      "outputs": [
        {
          "output_type": "stream",
          "name": "stderr",
          "text": [
            "<ipython-input-57-1062eb52e3cc>:20: DeprecationWarning: Importing hann from 'scipy.signal' is deprecated and will raise an error in SciPy 1.13.0. Please use 'scipy.signal.windows.hann' or the convenience function 'scipy.signal.get_window' instead.\n",
            "  hanning_window = hann(len(df))\n"
          ]
        }
      ]
    },
    {
      "cell_type": "code",
      "source": [
        "plt.figure(figsize=(5,7))\n",
        "plt.subplot(5,1,1)\n",
        "# x軸方向の動きだけを描画する。\n",
        "plt.title(\"raw x coordinate\")\n",
        "plt.plot(df[\"x\"])\n",
        "plt.xlabel(\"frame\")\n",
        "plt.subplot(5,1,2)\n",
        "plt.title(\"displacement (relative from the relaxed position)\")\n",
        "plt.plot(aravib_df[\"displacement\"])\n",
        "\n",
        "plt.subplot(5,1,3)\n",
        "plt.title(\"delta movements\")\n",
        "plt.xlabel(\"frame\")\n",
        "plt.plot(aravib_df[\"dif\"])\n",
        "\n",
        "plt.subplot(5,1,4)\n",
        "plt.title(\"Hanning Window Preprocessed\")\n",
        "plt.xlabel(\"frame\")\n",
        "plt.plot(aravib_df[\"hanning\"])\n",
        "\n",
        "\n",
        "plt.subplot(5,1,5)\n",
        "plt.title('Spectrum. Max freq.:{} Hz'.format(max_frequency))\n",
        "plt.xlabel('Frequency (Hz)')\n",
        "plt.ylabel('Amplitude')\n",
        "plt.plot(xf, spectrum)\n",
        "plt.grid(True)\n",
        "\n",
        "plt.subplots_adjust(hspace=1.5)"
      ],
      "metadata": {
        "colab": {
          "base_uri": "https://localhost:8080/",
          "height": 641
        },
        "id": "9BVq1Ny4fTrS",
        "outputId": "bae910e2-5f99-465b-b0a1-ab38582bb338"
      },
      "execution_count": 71,
      "outputs": [
        {
          "output_type": "display_data",
          "data": {
            "text/plain": [
              "<Figure size 500x700 with 5 Axes>"
            ],
            "image/png": "[encoded data removed]"
          },
          "metadata": {}
        }
      ]
    }
  ]
}