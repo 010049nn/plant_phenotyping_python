{
  "cells": [
    {
      "attachments": {},
      "cell_type": "markdown",
      "metadata": {
        "colab_type": "text",
        "id": "view-in-github"
      },
      "source": [
        "<a href=\"https://colab.research.google.com/github/phytometrics/plant_phenotyping_python/blob/main/notebooks/u2netp.ipynb\" target=\"_parent\"><img src=\"https://colab.research.google.com/assets/colab-badge.svg\" alt=\"Open In Colab\"/></a>"
      ]
    },
    {
      "attachments": {},
      "cell_type": "markdown",
      "metadata": {
        "id": "Q7yW1j9nQXii"
      },
      "source": [
        "# U<sup>2</sup>-Net (U-Square Net)による背景分離"
      ]
    },
    {
      "attachments": {},
      "cell_type": "markdown",
      "metadata": {
        "id": "XkL2xH7JWmbO"
      },
      "source": [
        "<center><img src=\"imgs/u2netp-1.png\" alt=\"image\" width=50%></center>\n",
        "\n",
        "<center>左から入力画像、真値、U<sup>2</sup>-Netによる推論結果<sup>1</sup></center>"
      ]
    },
    {
      "attachments": {},
      "cell_type": "markdown",
      "metadata": {
        "id": "LY7TsFEqXrKr"
      },
      "source": [
        "## U<sup>2</sup>-Netとは\n",
        "U<sup>2</sup>-Netは、2020年にPattern Recognitionで発表された論文において提唱されたモデルです。主な用途として、画像中の主要なオブジェクト（salient object）の検出が挙げられます。公式レポジトリ<sup>2</sup>はApache 2.0ライセンスで公開されており、このモデルを使用して、U2-Netを基にした多くの興味深いアプリケーションやツールが開発されています。\n",
        "\n",
        "今回は、そのうちの１つであるrembg<sup>3</sup>を紹介します。公式実装のpytorchモデルをonnxに変換し、pipでインストール可能なパッケージとして配布しされています。なお、rembg自体にはMITライセンスが付与されています。"
      ]
    },
    {
      "cell_type": "code",
      "execution_count": null,
      "metadata": {
        "vscode": {
          "languageId": "plaintext"
        }
      },
      "outputs": [],
      "source": []
    },
    {
      "attachments": {},
      "cell_type": "markdown",
      "metadata": {
        "id": "Ldw4SVuZaLha"
      },
      "source": [
        "引用\n",
        "\n",
        "<sup>1</sup>U2-Net: Going Deeper with Nested U-Structure for Salient Object Detection, Qin et al., Pattern Recognition 2022.\n",
        "\n",
        "<sup>2</sup>https://github.com/xuebinqin/U-2-Net\n",
        "\n",
        "<sup>3</sup>https://github.com/danielgatis/rembg\n"
      ]
    },
    {
      "attachments": {},
      "cell_type": "markdown",
      "metadata": {},
      "source": []
    }
  ],
  "metadata": {
    "colab": {
      "authorship_tag": "ABX9TyN4GQvr9n7bro5CQs3ZVL53",
      "include_colab_link": true,
      "provenance": []
    },
    "kernelspec": {
      "display_name": "Python 3",
      "name": "python3"
    },
    "language_info": {
      "name": "python"
    }
  },
  "nbformat": 4,
  "nbformat_minor": 0
}
