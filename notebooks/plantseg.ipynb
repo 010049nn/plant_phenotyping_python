{
  "cells": [
    {
      "attachments": {},
      "cell_type": "markdown",
      "metadata": {
        "colab_type": "text",
        "id": "view-in-github"
      },
      "source": [
        "<a href=\"https://colab.research.google.com/github/phytometrics/plant_phenotyping_python/blob/main/notebook/plantseg.ipynb\" target=\"_parent\"><img src=\"https://colab.research.google.com/assets/colab-badge.svg\" alt=\"Open In Colab\"/></a>"
      ]
    },
    {
      "attachments": {},
      "cell_type": "markdown",
      "metadata": {
        "id": "SCLeS6cvCpuX"
      },
      "source": [
        "# PlantSegを用いた染色画像の細胞インスタンス・セグメンテーション"
      ]
    },
    {
      "attachments": {},
      "cell_type": "markdown",
      "metadata": {},
      "source": [
        "<img src=\"https://cdn.jsdelivr.net/gh/phytometrics/plant_phenotyping_python@main/assets/d9e2211b9f7ee3748313c79760ec852913449e62850677539cca9e381e1e9c09.png\" alt=\"Image\" style=\"background-color: white;\">\n",
        "plantsegの公式レポジトリより転載<sup>1</sup>"
      ]
    },
    {
      "attachments": {},
      "cell_type": "markdown",
      "metadata": {},
      "source": [
        "## 解説\n",
        "植物の細胞壁をなんらかの試薬で染色、もしくは蛍光タンパク質で光らせ、共焦点顕微鏡で撮影する状況があるとします。どんなに染色条件や顕微鏡の撮影条件を検討しても、染色ムラや光の散乱や減衰、さらには屈折率の不均一性などの理由で、均一に細胞壁を検出した画像を取得することは大変難しいことかと思います。もし均一に取ることができれば１視野にある無数の細胞の形を自動計測し、遺伝子の機能解析や発生モデルの構築などに役立てられるのに、現実はそうではなく、大変な補正作業が入ることが多いですね。\n",
        "\n",
        "PlantSeg<sup>2</sup>は、共焦点顕微鏡やライトシート顕微鏡を用いて取得された3Dボリューム画像（2Dも可能です）における細胞インスタンスの認識を可能にするツールです​​。このツールは、主に植物細胞組織の染色画像に対してチューニングされており、訓練済みのモデルも提供されています​。\n",
        "\n",
        "PlantSegは、2つのステップから構成されています​。\n",
        "\n",
        "1. 細胞境界の予測：2D/3D U-Netを用い、細胞の境界領域を検出・抽出します。具体的には自家蛍光や染色由来のシグナル強度を均一化し、細胞壁の欠落やぼやけなど）を修正することができます​。\n",
        "2. 細胞セグメンテーション：４種類の領域分割アルゴリズムが実装されています。\n",
        "    - Multicut\n",
        "    - GASP average\n",
        "    - Mutex watershed\n",
        "    - Distance transform watershed\n",
        "\n",
        "PlantSegの出力フォーマットはHierarchical Data Format (HDF5)またはTagged Image File Format (TIFF)であり、本ソフトを前処理として活用した後、ilastik、MorphographX、Fijiといったよく使われる画像解析ソフトで引き続き解析を行うことも可能です。"
      ]
    },
    {
      "attachments": {},
      "cell_type": "markdown",
      "metadata": {},
      "source": []
    },
    {
      "attachments": {},
      "cell_type": "markdown",
      "metadata": {
        "id": "uffCJ7FGCzyn"
      },
      "source": [
        "## 環境構築"
      ]
    },
    {
      "cell_type": "code",
      "execution_count": null,
      "metadata": {
        "id": "svx_6CSaahd9"
      },
      "outputs": [],
      "source": [
        "#このセルを実行するとcolabが再起動（セッションがクラッシュしたと表示）しますが正常な動作です。\n",
        "!pip install -q condacolab\n",
        "import condacolab\n",
        "condacolab.install()"
      ]
    },
    {
      "cell_type": "code",
      "execution_count": null,
      "metadata": {
        "id": "myqLOTgea-3R"
      },
      "outputs": [],
      "source": [
        "# takes time. grab some coffee and wait\n",
        "!conda install -c conda-forge mamba\n",
        "!mamba install -c pytorch -c nvidia -c conda-forge -c lcerrone plantseg pytorch-cuda=11.7\n",
        "!pip install PyYAML"
      ]
    },
    {
      "attachments": {},
      "cell_type": "markdown",
      "metadata": {
        "id": "8EQfZAL76GgA"
      },
      "source": [
        "## 解析設定"
      ]
    },
    {
      "cell_type": "code",
      "execution_count": null,
      "metadata": {
        "id": "2HIV0_I1x7rv"
      },
      "outputs": [],
      "source": [
        "#Movie1_t00006_crop_gt.h5\n",
        "!wget -O test_movie.h5 https://osf.io/63kje/download"
      ]
    },
    {
      "cell_type": "code",
      "execution_count": 2,
      "metadata": {
        "id": "FDuSjPKGri4g"
      },
      "outputs": [],
      "source": [
        "\n",
        "# yaml fileを自作する\n",
        "import yaml\n",
        "\n",
        "INPUT_PATH = \"/content/XXXX.tiff\"\n",
        "\n",
        "data = {\n",
        "    # Contains the path to the directory or file to process\n",
        "    \"path\": INPUT_PATH,\n",
        "    \"preprocessing\": {\n",
        "        # enable/disable preprocessing\n",
        "        \"state\": True,\n",
        "        # create a new sub folder where all results will be stored\n",
        "        \"save_directory\": \"PreProcessing\",\n",
        "        # rescaling the volume is essential for the generalization of the networks. The rescaling factor can be computed as the resolution\n",
        "        # of the volume at hand divided by the resolution of the dataset used in training. Be careful, if the difference is too large check for a different model.\n",
        "        \"factor\": [1.0, 1.0, 1.0],\n",
        "        # the order of the spline interpolation\n",
        "        \"order\": 2,\n",
        "        # cropping out areas of little interest can drastically improve the performance of plantseg.\n",
        "        # crop volume has to be input using the numpy slicing convention [b_z:e_z, b_x:e_x, b_y:e_y], where b_zxy is the\n",
        "        # first point of a bounding box and e_zxy is the second. eg: [:, 100:500, 400:900]\n",
        "        \"crop_volume\": \"[:,:,:]\",\n",
        "        # optional: perform Gaussian smoothing or median filtering on the input.\n",
        "        \"filter\":{\n",
        "            # enable/disable filtering\n",
        "            \"state\": False,\n",
        "            # Accepted values: 'gaussian'/'median'\n",
        "            \"type\": \"gaussian\",\n",
        "            # sigma (gaussian) or disc radius (median)\n",
        "            \"filter_param\": 1.0\n",
        "            }\n",
        "        },\n",
        "    \"cnn_prediction\":{\n",
        "        # enable/disable UNet prediction\n",
        "        \"state\": True,\n",
        "        # Trained model name, more info on available models and custom models in the README\n",
        "        \"model_name\": \"generic_confocal_3D_unet\",\n",
        "        # If a CUDA capable gpu is available and corrected setup use \"cuda\", if not you can use \"cpu\" for cpu only inference (slower)\n",
        "        \"device\": \"cuda\",\n",
        "        # how many subprocesses to use for data loading\n",
        "        \"num_workers\": 8,\n",
        "        # patch size given to the network (adapt to fit in your GPU mem)\n",
        "        \"patch\": [100, 160, 160],\n",
        "        # stride between patcheswill be computed as `stride_ratio * patch`\n",
        "        # recommended values are in range `[0.5, 0.75]` to make sure the patches have enough overlap to get smooth prediction maps\n",
        "        \"stride_ratio\": 0.75,\n",
        "        # If \"True\" forces downloading networks from the online repos\n",
        "        \"model_update\": False,\n",
        "        },\n",
        "\n",
        "    \"cnn_postprocessing\":{\n",
        "        # enable/disable cnn post processing\n",
        "        \"state\": False,\n",
        "        # if True convert to result to tiff\n",
        "        \"tiff\": False,\n",
        "        # rescaling factor\n",
        "        \"factor\": [1, 1, 1],\n",
        "        # spline order for rescaling\n",
        "        \"order\": 2\n",
        "    },\n",
        "\n",
        "    \"segmentation\":{\n",
        "        # enable/disable segmentation\n",
        "        \"state\": True,\n",
        "        # Name of the algorithm to use for inferences. Options: MultiCut, MutexWS, GASP, DtWatershed\n",
        "        \"name\": \"MultiCut\",\n",
        "        # Segmentation specific parameters here\n",
        "        # balance under-/over-segmentation; 0 - aim for undersegmentation, 1 - aim for oversegmentation. (Not active for DtWatershed)\n",
        "        \"beta\": 0.5,\n",
        "        # directory where to save the results\n",
        "        \"save_directory\": \"MultiCut\",\n",
        "        # enable/disable watershed\n",
        "        \"run_ws\": True,\n",
        "        # use 2D instead of 3D watershed\n",
        "        \"ws_2D\": True,\n",
        "        # probability maps threshold\n",
        "        \"ws_threshold\": 0.5,\n",
        "        # set the minimum superpixels size\n",
        "        \"ws_minsize\": 50,\n",
        "        # sigma for the gaussian smoothing of the distance transform\n",
        "        \"ws_sigma\": 2.0,\n",
        "        # sigma for the gaussian smoothing of boundary\n",
        "        \"ws_w_sigma\": 0,\n",
        "        # set the minimum segment size in the final segmentation. (Not active for DtWatershed)\n",
        "        \"post_minsize\": 50\n",
        "        },\n",
        "    \"segmentation_postprocessing\":{\n",
        "        # enable/disable segmentation post processing\n",
        "        \"state\": False,\n",
        "        # if True convert to result to tiff\n",
        "        \"tiff\": False,\n",
        "        # rescaling factor\n",
        "        \"factor\": [1, 1, 1],\n",
        "        # spline order for rescaling (keep 0 for segmentation post processing\n",
        "        \"order\": 0,\n",
        "        # save raw input in the output segmentation file h5 file\n",
        "        \"save_raw\": False\n",
        "    }\n",
        "}\n",
        "\n",
        "with open('config.yaml', 'w') as file:\n",
        "    yaml.dump(data, file)\n"
      ]
    },
    {
      "attachments": {},
      "cell_type": "markdown",
      "metadata": {
        "id": "PqROs9GyC2lz"
      },
      "source": [
        "## 実行"
      ]
    },
    {
      "cell_type": "code",
      "execution_count": 41,
      "metadata": {
        "colab": {
          "base_uri": "https://localhost:8080/"
        },
        "id": "2n2SOPo0bI-W",
        "outputId": "4232b0a3-c328-4fc6-e96a-774d675c916f"
      },
      "outputs": [
        {
          "name": "stdout",
          "output_type": "stream",
          "text": [
            "2023-06-13 13:24:59,661 [MainThread] WARNING PlantSeg - key: 'patch_halo' is missing, plant-seg is trying to use a default.\n",
            "2023-06-13 13:24:59,661 [MainThread] WARNING PlantSeg - key: patch_halo has got value: None, but value must be a list (or tuple). defaulting default value: [2, 4, 4]\n",
            "2023-06-13 13:24:59,661 [MainThread] WARNING PlantSeg - key: 'output_type' is missing, plant-seg is trying to use a default.\n",
            "2023-06-13 13:24:59,661 [MainThread] WARNING PlantSeg - key: output_type has got value: None, but value must be a string. defaulting default value: data_float32\n",
            "2023-06-13 13:24:59,661 [MainThread] WARNING PlantSeg - key: 'save_raw' is missing, plant-seg is trying to use a default.\n",
            "2023-06-13 13:24:59,661 [MainThread] WARNING PlantSeg - key: save_raw has got value: None, but value must be a bool. defaulting default value: False\n",
            "2023-06-13 13:24:59,661 [MainThread] INFO PlantSeg - Running the pipeline on: ['/content/test_movie.h5']\n",
            "2023-06-13 13:24:59,661 [MainThread] INFO PlantSeg - Executing pipeline, see terminal for verbose logs.\n",
            "/usr/local/lib/python3.10/site-packages/plantseg/io/h5.py:22: RuntimeWarning: Voxel size not found, returning default [1.0, 1.0. 1.0]\n",
            "  warnings.warn('Voxel size not found, returning default [1.0, 1.0. 1.0]', RuntimeWarning)\n",
            "2023-06-13 13:24:59,667 [MainThread] INFO PlantSeg - Executing pipeline step: 'preprocessing'. Parameters: '{'state': True, 'save_directory': 'PreProcessing', 'factor': [1.0, 1.0, 1.0], 'order': 2, 'crop_volume': '[:,:,:]', 'filter': {'state': False, 'type': 'gaussian', 'filter_param': 1.0}}'. Files ['/content/test_movie.h5'].\n",
            "2023-06-13 13:24:59,667 [MainThread] INFO PlantSeg - Loading stack from /content/test_movie.h5\n",
            "2023-06-13 13:25:02,900 [MainThread] INFO PlantSeg - Preprocessing files...\n",
            "2023-06-13 13:25:02,900 [MainThread] INFO PlantSeg - Cropping input image to: [:,:,:]\n",
            "2023-06-13 13:25:02,901 [MainThread] INFO PlantSeg - Saving results in /content/PreProcessing/test_movie.h5\n",
            "2023-06-13 13:25:12,096 [MainThread] INFO PlantSeg - Executing pipeline step: 'cnn_prediction'. Parameters: '{'state': True, 'model_name': 'generic_confocal_3D_unet', 'device': 'cuda', 'num_workers': 8, 'patch': [100, 160, 160], 'stride_ratio': 0.75, 'model_update': False, 'patch_halo': [2, 4, 4]}'. Files ['/content/PreProcessing/test_movie.h5'].\n",
            "2023-06-13 13:25:18,320 [MainThread] INFO PlantSeg - Using batch size of 8 for prediction\n",
            "2023-06-13 13:25:18,322 [MainThread] INFO PlantSeg - Loading stack from /content/PreProcessing/test_movie.h5\n",
            "100% 49/49 [00:29<00:00,  1.67it/s]\n",
            "2023-06-13 13:25:52,562 [MainThread] INFO PlantSeg - Saving results in /content/PreProcessing/generic_confocal_3D_unet/test_movie_predictions.h5\n",
            "2023-06-13 13:27:36,029 [MainThread] INFO PlantSeg - Executing pipeline step: 'cnn_postprocessing'. Parameters: '{'state': False, 'tiff': False, 'factor': [1, 1, 1], 'order': 2, 'output_type': 'data_float32', 'save_raw': False}'. Files ['/content/PreProcessing/generic_confocal_3D_unet/test_movie_predictions.h5'].\n",
            "2023-06-13 13:27:36,029 [MainThread] INFO PlantSeg - Skipping 'DataPostProcessing3D'. Disabled by the user.\n",
            "2023-06-13 13:27:36,029 [MainThread] INFO PlantSeg - Executing pipeline step: 'segmentation'. Parameters: '{'state': True, 'name': 'MultiCut', 'beta': 0.5, 'save_directory': 'MultiCut', 'run_ws': True, 'ws_2D': True, 'ws_threshold': 0.5, 'ws_minsize': 50, 'ws_sigma': 2.0, 'ws_w_sigma': 0, 'post_minsize': 50}'. Files ['/content/PreProcessing/generic_confocal_3D_unet/test_movie_predictions.h5'].\n",
            "2023-06-13 13:27:36,030 [MainThread] INFO PlantSeg - Loading stack from /content/PreProcessing/generic_confocal_3D_unet/test_movie_predictions.h5\n",
            "2023-06-13 13:27:50,333 [MainThread] INFO PlantSeg - Computing segmentation with dtWS...\n",
            "2023-06-13 13:28:19,182 [MainThread] INFO PlantSeg - Clustering with MultiCut...\n",
            "2023-06-13 13:29:52,666 [MainThread] INFO PlantSeg - Clustering took 122.33 s\n",
            "2023-06-13 13:29:52,793 [MainThread] INFO PlantSeg - Saving results in /content/PreProcessing/generic_confocal_3D_unet/MultiCut/test_movie_predictions_multicut.h5\n",
            "2023-06-13 13:29:57,814 [MainThread] INFO PlantSeg - Executing pipeline step: 'segmentation_postprocessing'. Parameters: '{'state': True, 'tiff': True, 'factor': [1, 1, 1], 'order': 0, 'save_raw': False}'. Files ['/content/PreProcessing/generic_confocal_3D_unet/MultiCut/test_movie_predictions_multicut.h5'].\n",
            "2023-06-13 13:29:57,814 [MainThread] INFO PlantSeg - Loading stack from /content/PreProcessing/generic_confocal_3D_unet/MultiCut/test_movie_predictions_multicut.h5\n",
            "2023-06-13 13:30:00,128 [MainThread] INFO PlantSeg - Postprocessing files...\n",
            "2023-06-13 13:30:00,128 [MainThread] INFO PlantSeg - Saving results in /content/PreProcessing/generic_confocal_3D_unet/MultiCut/PostProcessing/test_movie_predictions_multicut.tiff\n",
            "2023-06-13 13:30:00,908 [MainThread] INFO PlantSeg - Pipeline execution finished!\n"
          ]
        }
      ],
      "source": [
        "!plantseg --config /content/config.yaml"
      ]
    },
    {
      "cell_type": "code",
      "execution_count": null,
      "metadata": {
        "id": "gyoDbX5hvcQ0"
      },
      "outputs": [],
      "source": [
        "import h5py\n",
        "import numpy as np\n",
        "import matplotlib.pyplot as plt\n",
        "from matplotlib.animation import FuncAnimation\n"
      ]
    },
    {
      "cell_type": "code",
      "execution_count": 31,
      "metadata": {
        "colab": {
          "base_uri": "https://localhost:8080/"
        },
        "id": "VGIocid32pl4",
        "outputId": "cff053c2-cf94-473e-f91c-b90b7a3b0258"
      },
      "outputs": [
        {
          "data": {
            "text/plain": [
              "486"
            ]
          },
          "execution_count": 31,
          "metadata": {},
          "output_type": "execute_result"
        }
      ],
      "source": [
        "len(frames)"
      ]
    },
    {
      "cell_type": "code",
      "execution_count": 39,
      "metadata": {
        "colab": {
          "base_uri": "https://localhost:8080/",
          "height": 601
        },
        "id": "ck4_0Kbp1uCU",
        "outputId": "1eb43e91-3934-42de-c364-29d0a69cac97"
      },
      "outputs": [
        {
          "ename": "KeyboardInterrupt",
          "evalue": "ignored",
          "output_type": "error",
          "traceback": [
            "\u001b[0;31m---------------------------------------------------------------------------\u001b[0m",
            "\u001b[0;31mKeyboardInterrupt\u001b[0m                         Traceback (most recent call last)",
            "\u001b[0;32m<ipython-input-39-0e11cf2413d7>\u001b[0m in \u001b[0;36m<cell line: 25>\u001b[0;34m()\u001b[0m\n\u001b[1;32m     23\u001b[0m \u001b[0;34m\u001b[0m\u001b[0m\n\u001b[1;32m     24\u001b[0m \u001b[0;31m# Display the animation\u001b[0m\u001b[0;34m\u001b[0m\u001b[0;34m\u001b[0m\u001b[0m\n\u001b[0;32m---> 25\u001b[0;31m \u001b[0mHTML\u001b[0m\u001b[0;34m(\u001b[0m\u001b[0mani\u001b[0m\u001b[0;34m.\u001b[0m\u001b[0mto_jshtml\u001b[0m\u001b[0;34m(\u001b[0m\u001b[0;34m)\u001b[0m\u001b[0;34m)\u001b[0m\u001b[0;34m\u001b[0m\u001b[0;34m\u001b[0m\u001b[0m\n\u001b[0m",
            "\u001b[0;32m/usr/local/lib/python3.10/dist-packages/matplotlib/animation.py\u001b[0m in \u001b[0;36mto_jshtml\u001b[0;34m(self, fps, embed_frames, default_mode)\u001b[0m\n\u001b[1;32m   1350\u001b[0m                                     \u001b[0membed_frames\u001b[0m\u001b[0;34m=\u001b[0m\u001b[0membed_frames\u001b[0m\u001b[0;34m,\u001b[0m\u001b[0;34m\u001b[0m\u001b[0;34m\u001b[0m\u001b[0m\n\u001b[1;32m   1351\u001b[0m                                     default_mode=default_mode)\n\u001b[0;32m-> 1352\u001b[0;31m                 \u001b[0mself\u001b[0m\u001b[0;34m.\u001b[0m\u001b[0msave\u001b[0m\u001b[0;34m(\u001b[0m\u001b[0mstr\u001b[0m\u001b[0;34m(\u001b[0m\u001b[0mpath\u001b[0m\u001b[0;34m)\u001b[0m\u001b[0;34m,\u001b[0m \u001b[0mwriter\u001b[0m\u001b[0;34m=\u001b[0m\u001b[0mwriter\u001b[0m\u001b[0;34m)\u001b[0m\u001b[0;34m\u001b[0m\u001b[0;34m\u001b[0m\u001b[0m\n\u001b[0m\u001b[1;32m   1353\u001b[0m                 \u001b[0mself\u001b[0m\u001b[0;34m.\u001b[0m\u001b[0m_html_representation\u001b[0m \u001b[0;34m=\u001b[0m \u001b[0mpath\u001b[0m\u001b[0;34m.\u001b[0m\u001b[0mread_text\u001b[0m\u001b[0;34m(\u001b[0m\u001b[0;34m)\u001b[0m\u001b[0;34m\u001b[0m\u001b[0;34m\u001b[0m\u001b[0m\n\u001b[1;32m   1354\u001b[0m \u001b[0;34m\u001b[0m\u001b[0m\n",
            "\u001b[0;32m/usr/local/lib/python3.10/dist-packages/matplotlib/animation.py\u001b[0m in \u001b[0;36msave\u001b[0;34m(self, filename, writer, fps, dpi, codec, bitrate, extra_args, metadata, extra_anim, savefig_kwargs, progress_callback)\u001b[0m\n\u001b[1;32m   1101\u001b[0m                 \u001b[0;32mfor\u001b[0m \u001b[0manim\u001b[0m\u001b[0;34m,\u001b[0m \u001b[0md\u001b[0m \u001b[0;32min\u001b[0m \u001b[0mzip\u001b[0m\u001b[0;34m(\u001b[0m\u001b[0mall_anim\u001b[0m\u001b[0;34m,\u001b[0m \u001b[0mdata\u001b[0m\u001b[0;34m)\u001b[0m\u001b[0;34m:\u001b[0m\u001b[0;34m\u001b[0m\u001b[0;34m\u001b[0m\u001b[0m\n\u001b[1;32m   1102\u001b[0m                     \u001b[0;31m# TODO: See if turning off blit is really necessary\u001b[0m\u001b[0;34m\u001b[0m\u001b[0;34m\u001b[0m\u001b[0m\n\u001b[0;32m-> 1103\u001b[0;31m                     \u001b[0manim\u001b[0m\u001b[0;34m.\u001b[0m\u001b[0m_draw_next_frame\u001b[0m\u001b[0;34m(\u001b[0m\u001b[0md\u001b[0m\u001b[0;34m,\u001b[0m \u001b[0mblit\u001b[0m\u001b[0;34m=\u001b[0m\u001b[0;32mFalse\u001b[0m\u001b[0;34m)\u001b[0m\u001b[0;34m\u001b[0m\u001b[0;34m\u001b[0m\u001b[0m\n\u001b[0m\u001b[1;32m   1104\u001b[0m                     \u001b[0;32mif\u001b[0m \u001b[0mprogress_callback\u001b[0m \u001b[0;32mis\u001b[0m \u001b[0;32mnot\u001b[0m \u001b[0;32mNone\u001b[0m\u001b[0;34m:\u001b[0m\u001b[0;34m\u001b[0m\u001b[0;34m\u001b[0m\u001b[0m\n\u001b[1;32m   1105\u001b[0m                         \u001b[0mprogress_callback\u001b[0m\u001b[0;34m(\u001b[0m\u001b[0mframe_number\u001b[0m\u001b[0;34m,\u001b[0m \u001b[0mtotal_frames\u001b[0m\u001b[0;34m)\u001b[0m\u001b[0;34m\u001b[0m\u001b[0;34m\u001b[0m\u001b[0m\n",
            "\u001b[0;32m/usr/local/lib/python3.10/dist-packages/matplotlib/animation.py\u001b[0m in \u001b[0;36m_draw_next_frame\u001b[0;34m(self, framedata, blit)\u001b[0m\n\u001b[1;32m   1137\u001b[0m         \u001b[0mself\u001b[0m\u001b[0;34m.\u001b[0m\u001b[0m_pre_draw\u001b[0m\u001b[0;34m(\u001b[0m\u001b[0mframedata\u001b[0m\u001b[0;34m,\u001b[0m \u001b[0mblit\u001b[0m\u001b[0;34m)\u001b[0m\u001b[0;34m\u001b[0m\u001b[0;34m\u001b[0m\u001b[0m\n\u001b[1;32m   1138\u001b[0m         \u001b[0mself\u001b[0m\u001b[0;34m.\u001b[0m\u001b[0m_draw_frame\u001b[0m\u001b[0;34m(\u001b[0m\u001b[0mframedata\u001b[0m\u001b[0;34m)\u001b[0m\u001b[0;34m\u001b[0m\u001b[0;34m\u001b[0m\u001b[0m\n\u001b[0;32m-> 1139\u001b[0;31m         \u001b[0mself\u001b[0m\u001b[0;34m.\u001b[0m\u001b[0m_post_draw\u001b[0m\u001b[0;34m(\u001b[0m\u001b[0mframedata\u001b[0m\u001b[0;34m,\u001b[0m \u001b[0mblit\u001b[0m\u001b[0;34m)\u001b[0m\u001b[0;34m\u001b[0m\u001b[0;34m\u001b[0m\u001b[0m\n\u001b[0m\u001b[1;32m   1140\u001b[0m \u001b[0;34m\u001b[0m\u001b[0m\n\u001b[1;32m   1141\u001b[0m     \u001b[0;32mdef\u001b[0m \u001b[0m_init_draw\u001b[0m\u001b[0;34m(\u001b[0m\u001b[0mself\u001b[0m\u001b[0;34m)\u001b[0m\u001b[0;34m:\u001b[0m\u001b[0;34m\u001b[0m\u001b[0;34m\u001b[0m\u001b[0m\n",
            "\u001b[0;32m/usr/local/lib/python3.10/dist-packages/matplotlib/animation.py\u001b[0m in \u001b[0;36m_post_draw\u001b[0;34m(self, framedata, blit)\u001b[0m\n\u001b[1;32m   1162\u001b[0m             \u001b[0mself\u001b[0m\u001b[0;34m.\u001b[0m\u001b[0m_blit_draw\u001b[0m\u001b[0;34m(\u001b[0m\u001b[0mself\u001b[0m\u001b[0;34m.\u001b[0m\u001b[0m_drawn_artists\u001b[0m\u001b[0;34m)\u001b[0m\u001b[0;34m\u001b[0m\u001b[0;34m\u001b[0m\u001b[0m\n\u001b[1;32m   1163\u001b[0m         \u001b[0;32melse\u001b[0m\u001b[0;34m:\u001b[0m\u001b[0;34m\u001b[0m\u001b[0;34m\u001b[0m\u001b[0m\n\u001b[0;32m-> 1164\u001b[0;31m             \u001b[0mself\u001b[0m\u001b[0;34m.\u001b[0m\u001b[0m_fig\u001b[0m\u001b[0;34m.\u001b[0m\u001b[0mcanvas\u001b[0m\u001b[0;34m.\u001b[0m\u001b[0mdraw_idle\u001b[0m\u001b[0;34m(\u001b[0m\u001b[0;34m)\u001b[0m\u001b[0;34m\u001b[0m\u001b[0;34m\u001b[0m\u001b[0m\n\u001b[0m\u001b[1;32m   1165\u001b[0m \u001b[0;34m\u001b[0m\u001b[0m\n\u001b[1;32m   1166\u001b[0m     \u001b[0;31m# The rest of the code in this class is to facilitate easy blitting\u001b[0m\u001b[0;34m\u001b[0m\u001b[0;34m\u001b[0m\u001b[0m\n",
            "\u001b[0;32m/usr/local/lib/python3.10/dist-packages/matplotlib/backend_bases.py\u001b[0m in \u001b[0;36mdraw_idle\u001b[0;34m(self, *args, **kwargs)\u001b[0m\n\u001b[1;32m   2080\u001b[0m         \u001b[0;32mif\u001b[0m \u001b[0;32mnot\u001b[0m \u001b[0mself\u001b[0m\u001b[0;34m.\u001b[0m\u001b[0m_is_idle_drawing\u001b[0m\u001b[0;34m:\u001b[0m\u001b[0;34m\u001b[0m\u001b[0;34m\u001b[0m\u001b[0m\n\u001b[1;32m   2081\u001b[0m             \u001b[0;32mwith\u001b[0m \u001b[0mself\u001b[0m\u001b[0;34m.\u001b[0m\u001b[0m_idle_draw_cntx\u001b[0m\u001b[0;34m(\u001b[0m\u001b[0;34m)\u001b[0m\u001b[0;34m:\u001b[0m\u001b[0;34m\u001b[0m\u001b[0;34m\u001b[0m\u001b[0m\n\u001b[0;32m-> 2082\u001b[0;31m                 \u001b[0mself\u001b[0m\u001b[0;34m.\u001b[0m\u001b[0mdraw\u001b[0m\u001b[0;34m(\u001b[0m\u001b[0;34m*\u001b[0m\u001b[0margs\u001b[0m\u001b[0;34m,\u001b[0m \u001b[0;34m**\u001b[0m\u001b[0mkwargs\u001b[0m\u001b[0;34m)\u001b[0m\u001b[0;34m\u001b[0m\u001b[0;34m\u001b[0m\u001b[0m\n\u001b[0m\u001b[1;32m   2083\u001b[0m \u001b[0;34m\u001b[0m\u001b[0m\n\u001b[1;32m   2084\u001b[0m     \u001b[0;34m@\u001b[0m\u001b[0mproperty\u001b[0m\u001b[0;34m\u001b[0m\u001b[0;34m\u001b[0m\u001b[0m\n",
            "\u001b[0;32m/usr/local/lib/python3.10/dist-packages/matplotlib/backends/backend_agg.py\u001b[0m in \u001b[0;36mdraw\u001b[0;34m(self)\u001b[0m\n\u001b[1;32m    398\u001b[0m              (self.toolbar._wait_cursor_for_draw_cm() if self.toolbar\n\u001b[1;32m    399\u001b[0m               else nullcontext()):\n\u001b[0;32m--> 400\u001b[0;31m             \u001b[0mself\u001b[0m\u001b[0;34m.\u001b[0m\u001b[0mfigure\u001b[0m\u001b[0;34m.\u001b[0m\u001b[0mdraw\u001b[0m\u001b[0;34m(\u001b[0m\u001b[0mself\u001b[0m\u001b[0;34m.\u001b[0m\u001b[0mrenderer\u001b[0m\u001b[0;34m)\u001b[0m\u001b[0;34m\u001b[0m\u001b[0;34m\u001b[0m\u001b[0m\n\u001b[0m\u001b[1;32m    401\u001b[0m             \u001b[0;31m# A GUI class may be need to update a window using this draw, so\u001b[0m\u001b[0;34m\u001b[0m\u001b[0;34m\u001b[0m\u001b[0m\n\u001b[1;32m    402\u001b[0m             \u001b[0;31m# don't forget to call the superclass.\u001b[0m\u001b[0;34m\u001b[0m\u001b[0;34m\u001b[0m\u001b[0m\n",
            "\u001b[0;32m/usr/local/lib/python3.10/dist-packages/matplotlib/artist.py\u001b[0m in \u001b[0;36mdraw_wrapper\u001b[0;34m(artist, renderer, *args, **kwargs)\u001b[0m\n\u001b[1;32m     93\u001b[0m     \u001b[0;34m@\u001b[0m\u001b[0mwraps\u001b[0m\u001b[0;34m(\u001b[0m\u001b[0mdraw\u001b[0m\u001b[0;34m)\u001b[0m\u001b[0;34m\u001b[0m\u001b[0;34m\u001b[0m\u001b[0m\n\u001b[1;32m     94\u001b[0m     \u001b[0;32mdef\u001b[0m \u001b[0mdraw_wrapper\u001b[0m\u001b[0;34m(\u001b[0m\u001b[0martist\u001b[0m\u001b[0;34m,\u001b[0m \u001b[0mrenderer\u001b[0m\u001b[0;34m,\u001b[0m \u001b[0;34m*\u001b[0m\u001b[0margs\u001b[0m\u001b[0;34m,\u001b[0m \u001b[0;34m**\u001b[0m\u001b[0mkwargs\u001b[0m\u001b[0;34m)\u001b[0m\u001b[0;34m:\u001b[0m\u001b[0;34m\u001b[0m\u001b[0;34m\u001b[0m\u001b[0m\n\u001b[0;32m---> 95\u001b[0;31m         \u001b[0mresult\u001b[0m \u001b[0;34m=\u001b[0m \u001b[0mdraw\u001b[0m\u001b[0;34m(\u001b[0m\u001b[0martist\u001b[0m\u001b[0;34m,\u001b[0m \u001b[0mrenderer\u001b[0m\u001b[0;34m,\u001b[0m \u001b[0;34m*\u001b[0m\u001b[0margs\u001b[0m\u001b[0;34m,\u001b[0m \u001b[0;34m**\u001b[0m\u001b[0mkwargs\u001b[0m\u001b[0;34m)\u001b[0m\u001b[0;34m\u001b[0m\u001b[0;34m\u001b[0m\u001b[0m\n\u001b[0m\u001b[1;32m     96\u001b[0m         \u001b[0;32mif\u001b[0m \u001b[0mrenderer\u001b[0m\u001b[0;34m.\u001b[0m\u001b[0m_rasterizing\u001b[0m\u001b[0;34m:\u001b[0m\u001b[0;34m\u001b[0m\u001b[0;34m\u001b[0m\u001b[0m\n\u001b[1;32m     97\u001b[0m             \u001b[0mrenderer\u001b[0m\u001b[0;34m.\u001b[0m\u001b[0mstop_rasterizing\u001b[0m\u001b[0;34m(\u001b[0m\u001b[0;34m)\u001b[0m\u001b[0;34m\u001b[0m\u001b[0;34m\u001b[0m\u001b[0m\n",
            "\u001b[0;32m/usr/local/lib/python3.10/dist-packages/matplotlib/artist.py\u001b[0m in \u001b[0;36mdraw_wrapper\u001b[0;34m(artist, renderer)\u001b[0m\n\u001b[1;32m     70\u001b[0m                 \u001b[0mrenderer\u001b[0m\u001b[0;34m.\u001b[0m\u001b[0mstart_filter\u001b[0m\u001b[0;34m(\u001b[0m\u001b[0;34m)\u001b[0m\u001b[0;34m\u001b[0m\u001b[0;34m\u001b[0m\u001b[0m\n\u001b[1;32m     71\u001b[0m \u001b[0;34m\u001b[0m\u001b[0m\n\u001b[0;32m---> 72\u001b[0;31m             \u001b[0;32mreturn\u001b[0m \u001b[0mdraw\u001b[0m\u001b[0;34m(\u001b[0m\u001b[0martist\u001b[0m\u001b[0;34m,\u001b[0m \u001b[0mrenderer\u001b[0m\u001b[0;34m)\u001b[0m\u001b[0;34m\u001b[0m\u001b[0;34m\u001b[0m\u001b[0m\n\u001b[0m\u001b[1;32m     73\u001b[0m         \u001b[0;32mfinally\u001b[0m\u001b[0;34m:\u001b[0m\u001b[0;34m\u001b[0m\u001b[0;34m\u001b[0m\u001b[0m\n\u001b[1;32m     74\u001b[0m             \u001b[0;32mif\u001b[0m \u001b[0martist\u001b[0m\u001b[0;34m.\u001b[0m\u001b[0mget_agg_filter\u001b[0m\u001b[0;34m(\u001b[0m\u001b[0;34m)\u001b[0m \u001b[0;32mis\u001b[0m \u001b[0;32mnot\u001b[0m \u001b[0;32mNone\u001b[0m\u001b[0;34m:\u001b[0m\u001b[0;34m\u001b[0m\u001b[0;34m\u001b[0m\u001b[0m\n",
            "\u001b[0;32m/usr/local/lib/python3.10/dist-packages/matplotlib/figure.py\u001b[0m in \u001b[0;36mdraw\u001b[0;34m(self, renderer)\u001b[0m\n\u001b[1;32m   3138\u001b[0m \u001b[0;34m\u001b[0m\u001b[0m\n\u001b[1;32m   3139\u001b[0m             \u001b[0mself\u001b[0m\u001b[0;34m.\u001b[0m\u001b[0mpatch\u001b[0m\u001b[0;34m.\u001b[0m\u001b[0mdraw\u001b[0m\u001b[0;34m(\u001b[0m\u001b[0mrenderer\u001b[0m\u001b[0;34m)\u001b[0m\u001b[0;34m\u001b[0m\u001b[0;34m\u001b[0m\u001b[0m\n\u001b[0;32m-> 3140\u001b[0;31m             mimage._draw_list_compositing_images(\n\u001b[0m\u001b[1;32m   3141\u001b[0m                 renderer, self, artists, self.suppressComposite)\n\u001b[1;32m   3142\u001b[0m \u001b[0;34m\u001b[0m\u001b[0m\n",
            "\u001b[0;32m/usr/local/lib/python3.10/dist-packages/matplotlib/image.py\u001b[0m in \u001b[0;36m_draw_list_compositing_images\u001b[0;34m(renderer, parent, artists, suppress_composite)\u001b[0m\n\u001b[1;32m    129\u001b[0m     \u001b[0;32mif\u001b[0m \u001b[0mnot_composite\u001b[0m \u001b[0;32mor\u001b[0m \u001b[0;32mnot\u001b[0m \u001b[0mhas_images\u001b[0m\u001b[0;34m:\u001b[0m\u001b[0;34m\u001b[0m\u001b[0;34m\u001b[0m\u001b[0m\n\u001b[1;32m    130\u001b[0m         \u001b[0;32mfor\u001b[0m \u001b[0ma\u001b[0m \u001b[0;32min\u001b[0m \u001b[0martists\u001b[0m\u001b[0;34m:\u001b[0m\u001b[0;34m\u001b[0m\u001b[0;34m\u001b[0m\u001b[0m\n\u001b[0;32m--> 131\u001b[0;31m             \u001b[0ma\u001b[0m\u001b[0;34m.\u001b[0m\u001b[0mdraw\u001b[0m\u001b[0;34m(\u001b[0m\u001b[0mrenderer\u001b[0m\u001b[0;34m)\u001b[0m\u001b[0;34m\u001b[0m\u001b[0;34m\u001b[0m\u001b[0m\n\u001b[0m\u001b[1;32m    132\u001b[0m     \u001b[0;32melse\u001b[0m\u001b[0;34m:\u001b[0m\u001b[0;34m\u001b[0m\u001b[0;34m\u001b[0m\u001b[0m\n\u001b[1;32m    133\u001b[0m         \u001b[0;31m# Composite any adjacent images together\u001b[0m\u001b[0;34m\u001b[0m\u001b[0;34m\u001b[0m\u001b[0m\n",
            "\u001b[0;32m/usr/local/lib/python3.10/dist-packages/matplotlib/artist.py\u001b[0m in \u001b[0;36mdraw_wrapper\u001b[0;34m(artist, renderer)\u001b[0m\n\u001b[1;32m     70\u001b[0m                 \u001b[0mrenderer\u001b[0m\u001b[0;34m.\u001b[0m\u001b[0mstart_filter\u001b[0m\u001b[0;34m(\u001b[0m\u001b[0;34m)\u001b[0m\u001b[0;34m\u001b[0m\u001b[0;34m\u001b[0m\u001b[0m\n\u001b[1;32m     71\u001b[0m \u001b[0;34m\u001b[0m\u001b[0m\n\u001b[0;32m---> 72\u001b[0;31m             \u001b[0;32mreturn\u001b[0m \u001b[0mdraw\u001b[0m\u001b[0;34m(\u001b[0m\u001b[0martist\u001b[0m\u001b[0;34m,\u001b[0m \u001b[0mrenderer\u001b[0m\u001b[0;34m)\u001b[0m\u001b[0;34m\u001b[0m\u001b[0;34m\u001b[0m\u001b[0m\n\u001b[0m\u001b[1;32m     73\u001b[0m         \u001b[0;32mfinally\u001b[0m\u001b[0;34m:\u001b[0m\u001b[0;34m\u001b[0m\u001b[0;34m\u001b[0m\u001b[0m\n\u001b[1;32m     74\u001b[0m             \u001b[0;32mif\u001b[0m \u001b[0martist\u001b[0m\u001b[0;34m.\u001b[0m\u001b[0mget_agg_filter\u001b[0m\u001b[0;34m(\u001b[0m\u001b[0;34m)\u001b[0m \u001b[0;32mis\u001b[0m \u001b[0;32mnot\u001b[0m \u001b[0;32mNone\u001b[0m\u001b[0;34m:\u001b[0m\u001b[0;34m\u001b[0m\u001b[0;34m\u001b[0m\u001b[0m\n",
            "\u001b[0;32m/usr/local/lib/python3.10/dist-packages/matplotlib/axes/_base.py\u001b[0m in \u001b[0;36mdraw\u001b[0;34m(self, renderer)\u001b[0m\n\u001b[1;32m   3062\u001b[0m             \u001b[0m_draw_rasterized\u001b[0m\u001b[0;34m(\u001b[0m\u001b[0mself\u001b[0m\u001b[0;34m.\u001b[0m\u001b[0mfigure\u001b[0m\u001b[0;34m,\u001b[0m \u001b[0martists_rasterized\u001b[0m\u001b[0;34m,\u001b[0m \u001b[0mrenderer\u001b[0m\u001b[0;34m)\u001b[0m\u001b[0;34m\u001b[0m\u001b[0;34m\u001b[0m\u001b[0m\n\u001b[1;32m   3063\u001b[0m \u001b[0;34m\u001b[0m\u001b[0m\n\u001b[0;32m-> 3064\u001b[0;31m         mimage._draw_list_compositing_images(\n\u001b[0m\u001b[1;32m   3065\u001b[0m             renderer, self, artists, self.figure.suppressComposite)\n\u001b[1;32m   3066\u001b[0m \u001b[0;34m\u001b[0m\u001b[0m\n",
            "\u001b[0;32m/usr/local/lib/python3.10/dist-packages/matplotlib/image.py\u001b[0m in \u001b[0;36m_draw_list_compositing_images\u001b[0;34m(renderer, parent, artists, suppress_composite)\u001b[0m\n\u001b[1;32m    129\u001b[0m     \u001b[0;32mif\u001b[0m \u001b[0mnot_composite\u001b[0m \u001b[0;32mor\u001b[0m \u001b[0;32mnot\u001b[0m \u001b[0mhas_images\u001b[0m\u001b[0;34m:\u001b[0m\u001b[0;34m\u001b[0m\u001b[0;34m\u001b[0m\u001b[0m\n\u001b[1;32m    130\u001b[0m         \u001b[0;32mfor\u001b[0m \u001b[0ma\u001b[0m \u001b[0;32min\u001b[0m \u001b[0martists\u001b[0m\u001b[0;34m:\u001b[0m\u001b[0;34m\u001b[0m\u001b[0;34m\u001b[0m\u001b[0m\n\u001b[0;32m--> 131\u001b[0;31m             \u001b[0ma\u001b[0m\u001b[0;34m.\u001b[0m\u001b[0mdraw\u001b[0m\u001b[0;34m(\u001b[0m\u001b[0mrenderer\u001b[0m\u001b[0;34m)\u001b[0m\u001b[0;34m\u001b[0m\u001b[0;34m\u001b[0m\u001b[0m\n\u001b[0m\u001b[1;32m    132\u001b[0m     \u001b[0;32melse\u001b[0m\u001b[0;34m:\u001b[0m\u001b[0;34m\u001b[0m\u001b[0;34m\u001b[0m\u001b[0m\n\u001b[1;32m    133\u001b[0m         \u001b[0;31m# Composite any adjacent images together\u001b[0m\u001b[0;34m\u001b[0m\u001b[0;34m\u001b[0m\u001b[0m\n",
            "\u001b[0;32m/usr/local/lib/python3.10/dist-packages/matplotlib/artist.py\u001b[0m in \u001b[0;36mdraw_wrapper\u001b[0;34m(artist, renderer)\u001b[0m\n\u001b[1;32m     70\u001b[0m                 \u001b[0mrenderer\u001b[0m\u001b[0;34m.\u001b[0m\u001b[0mstart_filter\u001b[0m\u001b[0;34m(\u001b[0m\u001b[0;34m)\u001b[0m\u001b[0;34m\u001b[0m\u001b[0;34m\u001b[0m\u001b[0m\n\u001b[1;32m     71\u001b[0m \u001b[0;34m\u001b[0m\u001b[0m\n\u001b[0;32m---> 72\u001b[0;31m             \u001b[0;32mreturn\u001b[0m \u001b[0mdraw\u001b[0m\u001b[0;34m(\u001b[0m\u001b[0martist\u001b[0m\u001b[0;34m,\u001b[0m \u001b[0mrenderer\u001b[0m\u001b[0;34m)\u001b[0m\u001b[0;34m\u001b[0m\u001b[0;34m\u001b[0m\u001b[0m\n\u001b[0m\u001b[1;32m     73\u001b[0m         \u001b[0;32mfinally\u001b[0m\u001b[0;34m:\u001b[0m\u001b[0;34m\u001b[0m\u001b[0;34m\u001b[0m\u001b[0m\n\u001b[1;32m     74\u001b[0m             \u001b[0;32mif\u001b[0m \u001b[0martist\u001b[0m\u001b[0;34m.\u001b[0m\u001b[0mget_agg_filter\u001b[0m\u001b[0;34m(\u001b[0m\u001b[0;34m)\u001b[0m \u001b[0;32mis\u001b[0m \u001b[0;32mnot\u001b[0m \u001b[0;32mNone\u001b[0m\u001b[0;34m:\u001b[0m\u001b[0;34m\u001b[0m\u001b[0;34m\u001b[0m\u001b[0m\n",
            "\u001b[0;32m/usr/local/lib/python3.10/dist-packages/matplotlib/image.py\u001b[0m in \u001b[0;36mdraw\u001b[0;34m(self, renderer, *args, **kwargs)\u001b[0m\n\u001b[1;32m    639\u001b[0m                 \u001b[0mrenderer\u001b[0m\u001b[0;34m.\u001b[0m\u001b[0mdraw_image\u001b[0m\u001b[0;34m(\u001b[0m\u001b[0mgc\u001b[0m\u001b[0;34m,\u001b[0m \u001b[0ml\u001b[0m\u001b[0;34m,\u001b[0m \u001b[0mb\u001b[0m\u001b[0;34m,\u001b[0m \u001b[0mim\u001b[0m\u001b[0;34m,\u001b[0m \u001b[0mtrans\u001b[0m\u001b[0;34m)\u001b[0m\u001b[0;34m\u001b[0m\u001b[0;34m\u001b[0m\u001b[0m\n\u001b[1;32m    640\u001b[0m         \u001b[0;32melse\u001b[0m\u001b[0;34m:\u001b[0m\u001b[0;34m\u001b[0m\u001b[0;34m\u001b[0m\u001b[0m\n\u001b[0;32m--> 641\u001b[0;31m             im, l, b, trans = self.make_image(\n\u001b[0m\u001b[1;32m    642\u001b[0m                 renderer, renderer.get_image_magnification())\n\u001b[1;32m    643\u001b[0m             \u001b[0;32mif\u001b[0m \u001b[0mim\u001b[0m \u001b[0;32mis\u001b[0m \u001b[0;32mnot\u001b[0m \u001b[0;32mNone\u001b[0m\u001b[0;34m:\u001b[0m\u001b[0;34m\u001b[0m\u001b[0;34m\u001b[0m\u001b[0m\n",
            "\u001b[0;32m/usr/local/lib/python3.10/dist-packages/matplotlib/image.py\u001b[0m in \u001b[0;36mmake_image\u001b[0;34m(self, renderer, magnification, unsampled)\u001b[0m\n\u001b[1;32m    947\u001b[0m         clip = ((self.get_clip_box() or self.axes.bbox) if self.get_clip_on()\n\u001b[1;32m    948\u001b[0m                 else self.figure.bbox)\n\u001b[0;32m--> 949\u001b[0;31m         return self._make_image(self._A, bbox, transformed_bbox, clip,\n\u001b[0m\u001b[1;32m    950\u001b[0m                                 magnification, unsampled=unsampled)\n\u001b[1;32m    951\u001b[0m \u001b[0;34m\u001b[0m\u001b[0m\n",
            "\u001b[0;32m/usr/local/lib/python3.10/dist-packages/matplotlib/image.py\u001b[0m in \u001b[0;36m_make_image\u001b[0;34m(self, A, in_bbox, out_bbox, clip_bbox, magnification, unsampled, round_to_pixel_border)\u001b[0m\n\u001b[1;32m    444\u001b[0m \u001b[0;34m\u001b[0m\u001b[0m\n\u001b[1;32m    445\u001b[0m                 \u001b[0;31m# Always copy, and don't allow array subtypes.\u001b[0m\u001b[0;34m\u001b[0m\u001b[0;34m\u001b[0m\u001b[0m\n\u001b[0;32m--> 446\u001b[0;31m                 \u001b[0mA_scaled\u001b[0m \u001b[0;34m=\u001b[0m \u001b[0mnp\u001b[0m\u001b[0;34m.\u001b[0m\u001b[0marray\u001b[0m\u001b[0;34m(\u001b[0m\u001b[0mA\u001b[0m\u001b[0;34m,\u001b[0m \u001b[0mdtype\u001b[0m\u001b[0;34m=\u001b[0m\u001b[0mscaled_dtype\u001b[0m\u001b[0;34m)\u001b[0m\u001b[0;34m\u001b[0m\u001b[0;34m\u001b[0m\u001b[0m\n\u001b[0m\u001b[1;32m    447\u001b[0m                 \u001b[0;31m# Clip scaled data around norm if necessary.  This is necessary\u001b[0m\u001b[0;34m\u001b[0m\u001b[0;34m\u001b[0m\u001b[0m\n\u001b[1;32m    448\u001b[0m                 \u001b[0;31m# for big numbers at the edge of float64's ability to represent\u001b[0m\u001b[0;34m\u001b[0m\u001b[0;34m\u001b[0m\u001b[0m\n",
            "\u001b[0;31mKeyboardInterrupt\u001b[0m: "
          ]
        },
        {
          "data": {
            "image/png": "[encoded data removed]",
            "text/plain": [
              "<Figure size 640x480 with 1 Axes>"
            ]
          },
          "metadata": {},
          "output_type": "display_data"
        }
      ],
      "source": [
        "import h5py\n",
        "import numpy as np\n",
        "import matplotlib.pyplot as plt\n",
        "import matplotlib.animation as animation\n",
        "from IPython.display import HTML\n",
        "\n",
        "# Path to your HDF5 file\n",
        "filename = '/content/PreProcessing/generic_confocal_3D_unet/MultiCut/test_movie_predictions_multicut.h5'\n",
        "with h5py.File(filename, 'r') as file:\n",
        "    # The dataset is named 'segmentation', automatically retreive it.\n",
        "    images = np.array(file[list(file.keys())[0]])\n",
        "\n",
        "# Create a figure for the animation\n",
        "fig, ax = plt.subplots()\n",
        "\n",
        "# Function to update the frame in the animation\n",
        "def update(frame):\n",
        "    ax.imshow(images[frame], cmap='gray')\n",
        "    ax.axis('off')\n",
        "\n",
        "# Create the animation\n",
        "ani = animation.FuncAnimation(fig, update, frames=range(images.shape[0]), interval=50)\n",
        "\n",
        "# Display the animation\n",
        "HTML(ani.to_jshtml())"
      ]
    },
    {
      "attachments": {},
      "cell_type": "markdown",
      "metadata": {},
      "source": [
        "1. https://github.com/hci-unihd/plant-seg/\n",
        "    - MIT License\n",
        "2. Wolny, A. et al., (2020). Accurate and versatile 3D segmentation of plant tissues at cellular resolution. eLife, 9. https://doi.org/10.7554/eLife.57613"
      ]
    },
    {
      "attachments": {},
      "cell_type": "markdown",
      "metadata": {},
      "source": []
    }
  ],
  "metadata": {
    "accelerator": "GPU",
    "colab": {
      "authorship_tag": "ABX9TyPybzO0N0TBqlNnVDdeIY3c",
      "gpuType": "A100",
      "include_colab_link": true,
      "machine_shape": "hm",
      "mount_file_id": "1cznPP9LIjRqHIprCQY4w0rToVWqP-_i-",
      "provenance": []
    },
    "kernelspec": {
      "display_name": "Python 3",
      "name": "python3"
    },
    "language_info": {
      "name": "python"
    }
  },
  "nbformat": 4,
  "nbformat_minor": 0
}
