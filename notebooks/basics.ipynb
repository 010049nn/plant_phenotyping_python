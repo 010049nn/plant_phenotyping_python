{
 "cells": [
  {
   "cell_type": "markdown",
   "metadata": {},
   "source": [
    "# はじめに\n",
    "- Google ColaboratoryでPythonを使うための基礎的な操作について紹介します。\n",
    "\n",
    "- PythonおよびColaboratoryについて経験のある方は本稿を飛ばしてもらっても構いません。\n",
    "\n",
    "- **Google Chome**を利用してこの画面を開いていますか？他のブラウザでも実行可能ですが、一部の機能が正常に実行されなかったり、挙動が異なることがあります。\n",
    "\n",
    "- 入れていない場合は、[Google Chromeをダウンロードしてインストール](https://www.google.com/intl/ja_jp/chrome/)　してからこのURLを開いてください。\n",
    "\n",
    "- Google Colaboratoryの一般的な使い方を学習したい人は[公式のノートブック](https://colab.research.google.com/notebooks/welcome.ipynb?hl=ja)を参照しましょう。"
   ]
  },
  {
   "cell_type": "markdown",
   "metadata": {},
   "source": [
    "1. このノートブック（ハンズオン資料）を、自分のgoogle driveの中に保存してください。画面上部の**ファイルをクリックし、ドライブにコピーを保存**を選択します。新しいタブが立ち上がりますので、古い方は閉じておきましょう。コピーしなくても実行可能ですが、機能が制限されます。\n",
    "\n",
    "2. 始める前に、セッションでGPUを使用するように設定します。途中で変更すると環境がリセットされるので、必ず最初にやりましょう。**「ランタイム」→「ランタイムのタイプを変更」。「ハードウェアアクセラレーター」→　GPU**。　注意：無料版のcolaboratoryを利用するため、他者によってGPUが使用されている場合は割り振られない場合があります。\n",
    "\n",
    "\n",
    "\n",
    "\n",
    "*自分でコードを書き換えてしまった結果、正常に実行しなくなって戻せなくなった場合はこのノートブックを再コピーすれば最初から始めることができます。\n",
    "\n",
    "*途中からコードを実行したりセルの実行を飛ばすとエラーが起きることがあります。何をやっているか自信がない人は、上から順番に実行していきましょう。"
   ]
  },
  {
   "cell_type": "markdown",
   "metadata": {},
   "source": [
    "# ウォーミングアップ"
   ]
  },
  {
   "cell_type": "code",
   "execution_count": 1,
   "metadata": {},
   "outputs": [],
   "source": [
    "# pythonでは行頭に半角の「#」を挿入する事で\n",
    "# プログラムには関係ないコメント行（メモや説明）として扱うことができます。\n",
    "# それ以外の行は全てコードとして処理されます。"
   ]
  },
  {
   "cell_type": "code",
   "execution_count": 2,
   "metadata": {},
   "outputs": [
    {
     "name": "stdout",
     "output_type": "stream",
     "text": [
      "hello world!\n"
     ]
    }
   ],
   "source": [
    "# 基本。プリントで任意の情報を出力します。\n",
    "\n",
    "print(\"hello world!\")"
   ]
  },
  {
   "cell_type": "code",
   "execution_count": 5,
   "metadata": {},
   "outputs": [
    {
     "ename": "SyntaxError",
     "evalue": "Missing parentheses in call to 'print'. Did you mean print(hello world!)? (<ipython-input-5-5022060e55cf>, line 2)",
     "output_type": "error",
     "traceback": [
      "\u001b[0;36m  File \u001b[0;32m\"<ipython-input-5-5022060e55cf>\"\u001b[0;36m, line \u001b[0;32m2\u001b[0m\n\u001b[0;31m    print hello world!\u001b[0m\n\u001b[0m          ^\u001b[0m\n\u001b[0;31mSyntaxError\u001b[0m\u001b[0;31m:\u001b[0m Missing parentheses in call to 'print'. Did you mean print(hello world!)?\n"
     ]
    }
   ],
   "source": [
    "# エラーが出たら落ち着いてエラーメッセージを確認し、原因を理解しましょう\n",
    "print hello world!"
   ]
  },
  {
   "cell_type": "code",
   "execution_count": 6,
   "metadata": {},
   "outputs": [
    {
     "name": "stdout",
     "output_type": "stream",
     "text": [
      "0\n",
      "aの中身は 0 です\n"
     ]
    }
   ],
   "source": [
    "# 変数の代入と利用。aの値を変えてどうなるか試してみましょう。\n",
    "a = 0\n",
    "\n",
    "print(a)  # 変数の場合は\"\"がいりません。\n",
    "print(\"aの中身は\", a, \"です\")  # カンマで区切ると一行に複数の情報を記載できます。"
   ]
  },
  {
   "cell_type": "code",
   "execution_count": 8,
   "metadata": {},
   "outputs": [],
   "source": [
    "# 変数の種類\n",
    "v = 1  # 整数 , int integerの略。\n",
    "v = \"a\"  # 文字 , str stringの略。 \"\" or ''で囲む\n",
    "v = True  # 論理値 , bool　booleanの略。 True or False"
   ]
  },
  {
   "cell_type": "code",
   "execution_count": 9,
   "metadata": {},
   "outputs": [
    {
     "name": "stdout",
     "output_type": "stream",
     "text": [
      "1\n",
      "3\n",
      "5\n"
     ]
    }
   ],
   "source": [
    "# リスト\n",
    "v = [1,3,5]\n",
    "print(v[0])  # Pythonではリストの最初は０で始まるので注意しましょう。\n",
    "print(v[1])\n",
    "print(v[2])"
   ]
  },
  {
   "cell_type": "code",
   "execution_count": 10,
   "metadata": {},
   "outputs": [
    {
     "ename": "IndexError",
     "evalue": "list index out of range",
     "output_type": "error",
     "traceback": [
      "\u001b[0;31m---------------------------------------------------------------------------\u001b[0m",
      "\u001b[0;31mIndexError\u001b[0m                                Traceback (most recent call last)",
      "\u001b[0;32m<ipython-input-10-211a719d447e>\u001b[0m in \u001b[0;36m<module>\u001b[0;34m\u001b[0m\n\u001b[0;32m----> 1\u001b[0;31m \u001b[0mprint\u001b[0m\u001b[0;34m(\u001b[0m\u001b[0mv\u001b[0m\u001b[0;34m[\u001b[0m\u001b[0;36m3\u001b[0m\u001b[0;34m]\u001b[0m\u001b[0;34m)\u001b[0m  \u001b[0;31m# ４番目はないのでこの行でエラーになる。\u001b[0m\u001b[0;34m\u001b[0m\u001b[0;34m\u001b[0m\u001b[0m\n\u001b[0m",
      "\u001b[0;31mIndexError\u001b[0m: list index out of range"
     ]
    }
   ],
   "source": [
    "print(v[3])  # ４番目はないのでこの行でエラーになる。"
   ]
  },
  {
   "cell_type": "code",
   "execution_count": 11,
   "metadata": {},
   "outputs": [
    {
     "name": "stdout",
     "output_type": "stream",
     "text": [
      "[1, 3, 5, 20]\n"
     ]
    }
   ],
   "source": [
    "# リストの末尾に要素を加える\n",
    "v.append(20)\n",
    "print(v)\n",
    "\n",
    "# 更新されたvの値は保存されるので、このセルを実行するたびに増えていきます"
   ]
  },
  {
   "cell_type": "code",
   "execution_count": 12,
   "metadata": {},
   "outputs": [
    {
     "name": "stdout",
     "output_type": "stream",
     "text": [
      "a+b is 1\n",
      "a-b is -5\n",
      "a*b is -6\n",
      "a/b is -0.6666666666666666\n",
      "-1\n"
     ]
    }
   ],
   "source": [
    "# 変数の計算。a、bの値を変えてどうなるかためしてみましょう。\n",
    "a = -2\n",
    "b = 3\n",
    "print(\"a+b is\",a+b)\n",
    "print(\"a-b is\", a-b)\n",
    "print(\"a*b is\", a*b)\n",
    "print(\"a/b is\", a/b)\n",
    "\n",
    "a += 1  # +=1とは1を加算する事です\n",
    "# a = a + 1\n",
    "print(a)"
   ]
  },
  {
   "cell_type": "code",
   "execution_count": 13,
   "metadata": {},
   "outputs": [
    {
     "name": "stdout",
     "output_type": "stream",
     "text": [
      "3\n"
     ]
    }
   ],
   "source": [
    "# 結果は違う変数に代入できます。\n",
    "a=1\n",
    "b=2\n",
    "c=a+b\n",
    "print(c)"
   ]
  },
  {
   "cell_type": "code",
   "execution_count": 14,
   "metadata": {},
   "outputs": [
    {
     "name": "stdout",
     "output_type": "stream",
     "text": [
      "1\n"
     ]
    }
   ],
   "source": [
    "#一度代入された変数はこのノートブックを再起動するか、代入しなおすまで保持されます。\n",
    "print(a)"
   ]
  },
  {
   "cell_type": "code",
   "execution_count": 15,
   "metadata": {},
   "outputs": [
    {
     "name": "stdout",
     "output_type": "stream",
     "text": [
      "False\n",
      "True\n"
     ]
    }
   ],
   "source": [
    "# pythonの世界では「=」は代入を意味します。\n",
    "# 等号記号は「==」になります。\n",
    "a=1\n",
    "b=2\n",
    "print(a==b)  # a is not equal to bなので falseをかえします。\n",
    "\n",
    "\n",
    "a=1\n",
    "b=1\n",
    "print(a==b)  # true\n"
   ]
  },
  {
   "cell_type": "code",
   "execution_count": 16,
   "metadata": {},
   "outputs": [
    {
     "name": "stdout",
     "output_type": "stream",
     "text": [
      "aは２と等しい\n"
     ]
    }
   ],
   "source": [
    "# 条件分岐。aの値を変えてどうなるか試してみましょう。\n",
    "# ちなみにifの中はタブもしくはスペース４つ分です。\n",
    "a = 2\n",
    "\n",
    "if a > 2:\n",
    "    print(\"aは２よりも大きい\")\n",
    "elif a == 2:  # ifではなくて、もし〜〜ならば、\n",
    "    print(\"aは２と等しい\")\n",
    "else:  # もし上記条件のいずれにもあてはまなければ、\n",
    "    print(\"aは２よりも小さい\")"
   ]
  },
  {
   "cell_type": "code",
   "execution_count": 17,
   "metadata": {},
   "outputs": [
    {
     "name": "stdout",
     "output_type": "stream",
     "text": [
      "aは -1 です\n",
      "aは 0 です\n",
      "aは 1 です\n",
      "aは 2 です\n",
      "aは 3 です\n",
      "aは 4 です\n",
      "aは 5 です\n",
      "aは 6 です\n",
      "aは 7 です\n",
      "aは 8 です\n",
      "aは 9 です\n",
      "aは10に達しました\n"
     ]
    }
   ],
   "source": [
    "# くりかえし処理の表現方法です。条件を満たす限り、whileの処理を繰り返します。\n",
    "\n",
    "a=-1\n",
    "while a < 10:  # aが１０未満の間、下の処理を繰り返す。\n",
    "    print(\"aは\", a, \"です\")\n",
    "    a+=1  # aに１加算します。\n",
    "print(\"aは10に達しました\")"
   ]
  },
  {
   "cell_type": "code",
   "execution_count": 18,
   "metadata": {},
   "outputs": [
    {
     "name": "stdout",
     "output_type": "stream",
     "text": [
      "1\n",
      "20\n",
      "300\n",
      "500\n"
     ]
    }
   ],
   "source": [
    "# 繰り返し処理2\n",
    "a = [1,20,300,500]  # リスト\n",
    "for n in a:\n",
    "    print(n)"
   ]
  },
  {
   "cell_type": "code",
   "execution_count": 19,
   "metadata": {},
   "outputs": [
    {
     "name": "stdout",
     "output_type": "stream",
     "text": [
      "0 番目の値は 1\n",
      "1 番目の値は 20\n",
      "2 番目の値は 300\n",
      "3 番目の値は 500\n"
     ]
    }
   ],
   "source": [
    "# enumerateを使うことで何番目の要素か同時に取得することができます。\n",
    "\n",
    "for i, n in enumerate(a):\n",
    "    print(i, \"番目の値は\", n)"
   ]
  },
  {
   "cell_type": "markdown",
   "metadata": {},
   "source": [
    "## ウォーミングアップその２"
   ]
  },
  {
   "cell_type": "code",
   "execution_count": 20,
   "metadata": {},
   "outputs": [],
   "source": [
    "# 関数の定義と利用\n",
    "# pythonは基本上から一行ずつ順番に実行されていきますが、関数は定義しても呼び出されるまで動きません。\n",
    "\n",
    "def add(x):  # defはdefine,　xは引数（ひきすう）。\n",
    "    x += 1\n",
    "    return x  # return ~~は戻り値\n",
    "\n",
    "\n",
    "def subtract(x,y): #引数は複数指定できます。\n",
    "    z = x - y\n",
    "    return z\n",
    "\n",
    "\n",
    "def add_and_subtract(x,y): #戻り値も複数指定できます。\n",
    "    z1 = x + y\n",
    "    z2 = x - y\n",
    "    return z1, z2\n",
    "\n",
    "\n",
    "def noreturn(z):\n",
    "    print (\"関数noreturnに入力されたデータは\",z,\"です\") #戻り値のない関数も定義できます。"
   ]
  },
  {
   "cell_type": "code",
   "execution_count": 21,
   "metadata": {},
   "outputs": [
    {
     "name": "stdout",
     "output_type": "stream",
     "text": [
      "2\n"
     ]
    }
   ],
   "source": [
    "a= add(1) #simple関数に1を入れると、関数内で1に1を加算して、2を返します。\n",
    "print(a)"
   ]
  },
  {
   "cell_type": "code",
   "execution_count": 23,
   "metadata": {},
   "outputs": [
    {
     "name": "stdout",
     "output_type": "stream",
     "text": [
      "-1\n",
      "3 -1\n",
      "関数noreturnに入力されたデータは 2 です\n"
     ]
    }
   ],
   "source": [
    "a = subtract(1,2)  # subtract関数に1と2を入れると、関数内で1-2を計算して、-1を返します。\n",
    "print(a)\n",
    "\n",
    "z1,z2 = add_and_subtract(1,2)  # add_and_subtract関数に1と2を入れると、関数内で1+2と1-2を計算して、3と-1を返します。\n",
    "print(z1, z2)\n",
    "\n",
    "noreturn(2)  # noreturn関数に2を入れると、戻り値はありませんが、関数内でprintされます。"
   ]
  },
  {
   "cell_type": "code",
   "execution_count": 23,
   "metadata": {},
   "outputs": [],
   "source": [
    "#　プログラムが大きくなり、変数と関数が増えたり冗長的になると全体像が把握しにくくなります。「クラス」を利用しましょう。\n",
    "\n",
    "class plant:\n",
    "    def __init__(self):\n",
    "        self.plantation_date = ''\n",
    "        self.biomass = ''\n",
    "        self.height = ''        \n",
    "    def get_info(self):\n",
    "        message = \"planted in {}, biomass is {}, height is {}\".format(self.plantation_date, self.biomass, self.height)\n",
    "        return message"
   ]
  },
  {
   "cell_type": "code",
   "execution_count": 26,
   "metadata": {},
   "outputs": [
    {
     "name": "stdout",
     "output_type": "stream",
     "text": [
      "planted in 2018/5/1, biomass is 1.2, height is 10\n",
      "planted in 2018/5/1, biomass is 2.1, height is 50\n"
     ]
    }
   ],
   "source": [
    "rice = plant()\n",
    "rice.plantation_date = '2018/5/1'\n",
    "rice.biomass = 1.2\n",
    "rice.height = 10\n",
    "\n",
    "corn = plant()\n",
    "corn.plantation_date = '2018/5/1'\n",
    "corn.biomass = 2.1\n",
    "corn.height = 50\n",
    "\n",
    "\n",
    "print(rice.get_info())\n",
    "print(corn.get_info())\n"
   ]
  },
  {
   "cell_type": "code",
   "execution_count": 27,
   "metadata": {},
   "outputs": [],
   "source": [
    "# クラスを使わなければ変数を階層構造無しでそれぞれ管理しなければなりません。変数が増えると把握が大変になります。\n",
    "\n",
    "rice_plantation_date = '2018/5/1'\n",
    "rice_biomass = 1.2\n",
    "rice_height = 10\n",
    "\n",
    "corn_plantation_date = '2018/5/1'\n",
    "corn_biomass = 2.1\n",
    "corn_height = 50"
   ]
  },
  {
   "cell_type": "code",
   "execution_count": null,
   "metadata": {},
   "outputs": [],
   "source": []
  },
  {
   "cell_type": "code",
   "execution_count": null,
   "metadata": {},
   "outputs": [],
   "source": []
  }
 ],
 "metadata": {
  "kernelspec": {
   "display_name": "Python 3",
   "language": "python",
   "name": "python3"
  },
  "language_info": {
   "codemirror_mode": {
    "name": "ipython",
    "version": 3
   },
   "file_extension": ".py",
   "mimetype": "text/x-python",
   "name": "python",
   "nbconvert_exporter": "python",
   "pygments_lexer": "ipython3",
   "version": "3.8.5"
  },
  "orig_nbformat": 4
 },
 "nbformat": 4,
 "nbformat_minor": 2
}
