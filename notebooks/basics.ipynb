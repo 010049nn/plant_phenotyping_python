{
  "cells": [
    {
      "cell_type": "markdown",
      "metadata": {
        "id": "SZZ85USspgy6"
      },
      "source": [
        "# Pythonの基本的な使い方"
      ]
    },
    {
      "cell_type": "markdown",
      "metadata": {
        "id": "q5KFHfbDpgy7"
      },
      "source": [
        "## はじめに\n",
        "- Python言語の基礎的な操作について紹介します。\n",
        "\n",
        "- Python言語のすべてをカバーする基礎的ハンズオンではありません。\n",
        "\n",
        "- それでもなお、PythonおよびColaboratoryについて経験のある方は本稿を飛ばしてもらっても構いません。\n",
        "\n",
        "- **Google Chome**を利用してこの画面を開いていますか？他のブラウザでも実行可能ですが、一部の機能が正常に実行されなかったり、挙動が異なることがあります。\n",
        "\n",
        "- インストールしていない場合は、[Google Chromeをダウンロードしてインストール](https://www.google.com/intl/ja_jp/chrome/)　してからこのURLを開いてください。\n",
        "\n",
        "- Google Colaboratoryの一般的な使い方を学習したい人は[公式のノートブック](https://colab.research.google.com/notebooks/welcome.ipynb?hl=ja)を参照しましょう。\n",
        "\n",
        "このノートブック（ハンズオン資料）を、自分のgoogle driveの中に保存してください。画面上部の**ファイルをクリックし、ドライブにコピーを保存**を選択します。新しいタブが立ち上がりますので、古い方は閉じておきましょう。コピーしなくても実行可能ですが、機能が制限されます。\n",
        "\n",
        "自分でコードを書き換えてしまった結果、正常に実行しなくなって戻せなくなった場合はこのノートブックを再コピーすれば最初から始めることができます。\n",
        "\n",
        "途中からコードを実行したりセルの実行を飛ばすとエラーが起きることがあります。何をやっているか自信がない人は、上から順番に実行していきましょう。"
      ]
    },
    {
      "cell_type": "markdown",
      "metadata": {
        "id": "vhWg6d2hpgy8"
      },
      "source": [
        "## 基礎"
      ]
    },
    {
      "cell_type": "code",
      "execution_count": null,
      "metadata": {
        "id": "SucEZnqXpgy8"
      },
      "outputs": [],
      "source": [
        "# pythonでは行頭に半角の「#」を挿入する事で\n",
        "# プログラムには関係ないコメント行（メモや説明）として扱うことができます。\n",
        "# それ以外の行は全てコードとして処理されます。"
      ]
    },
    {
      "cell_type": "code",
      "execution_count": null,
      "metadata": {
        "id": "Molp-Qk4pgy8",
        "outputId": "a2bdb544-0d09-4829-e87a-7c858a59cdb8"
      },
      "outputs": [
        {
          "name": "stdout",
          "output_type": "stream",
          "text": [
            "hello world!\n"
          ]
        }
      ],
      "source": [
        "# 基本。プリントで任意の情報を出力します。\n",
        "\n",
        "print(\"hello world!\")"
      ]
    },
    {
      "cell_type": "code",
      "execution_count": null,
      "metadata": {
        "id": "3TVTYZSgpgy9",
        "outputId": "cbcc98f6-4fe6-4bfe-9c6b-95e4232072e6"
      },
      "outputs": [
        {
          "ename": "SyntaxError",
          "evalue": "Missing parentheses in call to 'print'. Did you mean print(hello world!)? (<ipython-input-5-5022060e55cf>, line 2)",
          "output_type": "error",
          "traceback": [
            "\u001b[0;36m  File \u001b[0;32m\"<ipython-input-5-5022060e55cf>\"\u001b[0;36m, line \u001b[0;32m2\u001b[0m\n\u001b[0;31m    print hello world!\u001b[0m\n\u001b[0m          ^\u001b[0m\n\u001b[0;31mSyntaxError\u001b[0m\u001b[0;31m:\u001b[0m Missing parentheses in call to 'print'. Did you mean print(hello world!)?\n"
          ]
        }
      ],
      "source": [
        "# エラーが出たら落ち着いてエラーメッセージを確認し、原因を理解しましょう\n",
        "print hello world!"
      ]
    },
    {
      "cell_type": "code",
      "execution_count": null,
      "metadata": {
        "id": "UkvVQimmpgy9",
        "outputId": "02bca3de-b1c0-43ef-dc2d-74e80ab57377"
      },
      "outputs": [
        {
          "name": "stdout",
          "output_type": "stream",
          "text": [
            "0\n",
            "aの中身は 0 です\n"
          ]
        }
      ],
      "source": [
        "# 変数の代入と利用。aの値を変えてどうなるか試してみましょう。\n",
        "a = 0\n",
        "\n",
        "print(a)  # 変数の場合は\"\"がいりません。\n",
        "print(\"aの中身は\", a, \"です\")  # カンマで区切ると一行に複数の情報を記載できます。"
      ]
    },
    {
      "cell_type": "code",
      "execution_count": null,
      "metadata": {
        "id": "3cotfcA6pgy9"
      },
      "outputs": [],
      "source": [
        "# 変数の種類\n",
        "v = 1  # 整数 , int integerの略。\n",
        "v = \"a\"  # 文字 , str stringの略。 \"\" or ''で囲む\n",
        "v = True  # 論理値 , bool　booleanの略。 True or False"
      ]
    },
    {
      "cell_type": "code",
      "execution_count": null,
      "metadata": {
        "id": "VVkQBXhHpgy9",
        "outputId": "0c953229-4edd-44ed-e97e-a0e7ea1481d9"
      },
      "outputs": [
        {
          "name": "stdout",
          "output_type": "stream",
          "text": [
            "a+b is 1\n",
            "a-b is -5\n",
            "a*b is -6\n",
            "a/b is -0.6666666666666666\n",
            "-1\n"
          ]
        }
      ],
      "source": [
        "# 変数の計算。a、bの値を変えてどうなるかためしてみましょう。\n",
        "a = -2\n",
        "b = 3\n",
        "print(\"a+b is\",a+b)\n",
        "print(\"a-b is\", a-b)\n",
        "print(\"a*b is\", a*b)\n",
        "print(\"a/b is\", a/b)\n",
        "\n",
        "a += 1  # +=1とは1を加算する事です\n",
        "# a = a + 1\n",
        "print(a)"
      ]
    },
    {
      "cell_type": "code",
      "execution_count": 32,
      "metadata": {
        "colab": {
          "base_uri": "https://localhost:8080/"
        },
        "id": "Hs-D9F5Lpgy9",
        "outputId": "43c7a503-3f40-4361-beb8-c5e6ca306f94"
      },
      "outputs": [
        {
          "name": "stdout",
          "output_type": "stream",
          "text": [
            "3\n"
          ]
        }
      ],
      "source": [
        "# 結果は違う変数に代入できます。\n",
        "a = 1\n",
        "b = 2\n",
        "c = a+b\n",
        "print(c)"
      ]
    },
    {
      "cell_type": "code",
      "execution_count": 34,
      "metadata": {
        "colab": {
          "base_uri": "https://localhost:8080/"
        },
        "id": "bfeWluqPy0tK",
        "outputId": "11f8220a-3ddb-406c-c2be-ce74eb8a8fc5"
      },
      "outputs": [
        {
          "name": "stdout",
          "output_type": "stream",
          "text": [
            "1\n"
          ]
        }
      ],
      "source": [
        "# 他にも剰余を示す%記号も演算子としてよく使われます。\n",
        "a = 10\n",
        "b = 3\n",
        "\n",
        "print(a%b)"
      ]
    },
    {
      "cell_type": "code",
      "execution_count": 35,
      "metadata": {
        "colab": {
          "base_uri": "https://localhost:8080/"
        },
        "id": "V2uxNgq4pgy9",
        "outputId": "78625519-11ef-4ec2-8e12-451a452ed08b"
      },
      "outputs": [
        {
          "name": "stdout",
          "output_type": "stream",
          "text": [
            "10\n"
          ]
        }
      ],
      "source": [
        "#一度代入された変数はこのノートブックを再起動するか、代入しなおすまで保持されます。\n",
        "print(a)"
      ]
    },
    {
      "cell_type": "code",
      "execution_count": null,
      "metadata": {
        "id": "uGfZst9cpgy9",
        "outputId": "1aff55ee-783f-4e9b-ccdc-cc664ac47fb0"
      },
      "outputs": [
        {
          "name": "stdout",
          "output_type": "stream",
          "text": [
            "1\n",
            "3\n",
            "5\n"
          ]
        }
      ],
      "source": [
        "# リスト\n",
        "v = [1,3,5]\n",
        "print(v[0])  # Pythonではリストの最初は０で始まるので注意しましょう。\n",
        "print(v[1])\n",
        "print(v[2])"
      ]
    },
    {
      "cell_type": "code",
      "execution_count": null,
      "metadata": {
        "id": "BvwCBCGvpgy9",
        "outputId": "4c2dafbd-a2c8-4bdf-d6bd-4005d1b4dbbb"
      },
      "outputs": [
        {
          "ename": "IndexError",
          "evalue": "list index out of range",
          "output_type": "error",
          "traceback": [
            "\u001b[0;31m---------------------------------------------------------------------------\u001b[0m",
            "\u001b[0;31mIndexError\u001b[0m                                Traceback (most recent call last)",
            "\u001b[0;32m<ipython-input-10-211a719d447e>\u001b[0m in \u001b[0;36m<module>\u001b[0;34m\u001b[0m\n\u001b[0;32m----> 1\u001b[0;31m \u001b[0mprint\u001b[0m\u001b[0;34m(\u001b[0m\u001b[0mv\u001b[0m\u001b[0;34m[\u001b[0m\u001b[0;36m3\u001b[0m\u001b[0;34m]\u001b[0m\u001b[0;34m)\u001b[0m  \u001b[0;31m# ４番目はないのでこの行でエラーになる。\u001b[0m\u001b[0;34m\u001b[0m\u001b[0;34m\u001b[0m\u001b[0m\n\u001b[0m",
            "\u001b[0;31mIndexError\u001b[0m: list index out of range"
          ]
        }
      ],
      "source": [
        "print(v[3])  # ４番目はないのでこの行でエラーになる。"
      ]
    },
    {
      "cell_type": "code",
      "execution_count": null,
      "metadata": {
        "id": "7rjetAWXpgy9",
        "outputId": "0d74f730-9ede-47fb-be6b-5a7c1ed109a9"
      },
      "outputs": [
        {
          "name": "stdout",
          "output_type": "stream",
          "text": [
            "[1, 3, 5, 20]\n"
          ]
        }
      ],
      "source": [
        "# リストの末尾に要素を加える\n",
        "v.append(20)\n",
        "print(v)\n",
        "\n",
        "# 更新されたvの値は保存されるので、このセルを実行するたびに増えていきます"
      ]
    },
    {
      "cell_type": "code",
      "execution_count": 59,
      "metadata": {
        "colab": {
          "base_uri": "https://localhost:8080/"
        },
        "id": "ICn2IU2G2M68",
        "outputId": "a574af17-43fd-4bdd-f6da-bbe1448d22d4"
      },
      "outputs": [
        {
          "name": "stdout",
          "output_type": "stream",
          "text": [
            "{'temperature': 36.8, 'humidity': 80}\n",
            "36.8\n"
          ]
        }
      ],
      "source": [
        "# 辞書\n",
        "d = {}\n",
        "# 辞書はkeyとvalueというペアでデータを管理します。\n",
        "d[\"temperature\"] = 36.8\n",
        "d[\"humidity\"] = 80\n",
        "\n",
        "print(d)\n",
        "\n",
        "# 辞書の値はキーでアクセスすることができます。\n",
        "print(d[\"temperature\"])\n"
      ]
    },
    {
      "cell_type": "code",
      "execution_count": null,
      "metadata": {
        "id": "HQbppadlpgy9",
        "outputId": "a66afa74-523d-4464-e81d-535f1aca8362"
      },
      "outputs": [
        {
          "name": "stdout",
          "output_type": "stream",
          "text": [
            "False\n",
            "True\n"
          ]
        }
      ],
      "source": [
        "# pythonの世界では「=」は代入を意味します。\n",
        "# 等号記号は「==」になります。\n",
        "a=1\n",
        "b=2\n",
        "print(a==b)  # a is not equal to bなので falseをかえします。\n",
        "\n",
        "\n",
        "a=1\n",
        "b=1\n",
        "print(a==b)  # true\n"
      ]
    },
    {
      "cell_type": "code",
      "execution_count": null,
      "metadata": {
        "id": "wykhIVZcpgy-",
        "outputId": "cc9bb578-c721-4eae-8cdf-32bf11a0f359"
      },
      "outputs": [
        {
          "name": "stdout",
          "output_type": "stream",
          "text": [
            "aは２と等しい\n"
          ]
        }
      ],
      "source": [
        "# 条件分岐。aの値を変えてどうなるか試してみましょう。\n",
        "# ちなみにifの中はタブもしくはスペース４つ分です。\n",
        "a = 2\n",
        "\n",
        "if a > 2:\n",
        "    print(\"aは２よりも大きい\")\n",
        "elif a == 2:  # ifではなくて、もし〜〜ならば、\n",
        "    print(\"aは２と等しい\")\n",
        "else:  # もし上記条件のいずれにもあてはまなければ、\n",
        "    print(\"aは２よりも小さい\")"
      ]
    },
    {
      "cell_type": "code",
      "execution_count": null,
      "metadata": {
        "id": "VSIhy6cipgy-",
        "outputId": "2615355c-8c56-4979-b7f1-58b058903c69"
      },
      "outputs": [
        {
          "name": "stdout",
          "output_type": "stream",
          "text": [
            "aは -1 です\n",
            "aは 0 です\n",
            "aは 1 です\n",
            "aは 2 です\n",
            "aは 3 です\n",
            "aは 4 です\n",
            "aは 5 です\n",
            "aは 6 です\n",
            "aは 7 です\n",
            "aは 8 です\n",
            "aは 9 です\n",
            "aは10に達しました\n"
          ]
        }
      ],
      "source": [
        "# くりかえし処理の表現方法です。条件を満たす限り、whileの処理を繰り返します。\n",
        "\n",
        "a=-1\n",
        "while a < 10:  # aが10未満の間、下の処理を繰り返す。\n",
        "    print(\"aは\", a, \"です\")\n",
        "    a+=1  # aに１加算します。\n",
        "print(\"aは10に達しました\")"
      ]
    },
    {
      "cell_type": "code",
      "execution_count": null,
      "metadata": {
        "id": "Xl0Fx7dIpgy-",
        "outputId": "7fd3b71a-e012-4bb9-800e-5985f209f338"
      },
      "outputs": [
        {
          "name": "stdout",
          "output_type": "stream",
          "text": [
            "1\n",
            "20\n",
            "300\n",
            "500\n"
          ]
        }
      ],
      "source": [
        "# 繰り返し処理2\n",
        "a = [1,20,300,500]  # リスト\n",
        "for n in a:\n",
        "    print(n)"
      ]
    },
    {
      "cell_type": "code",
      "execution_count": null,
      "metadata": {
        "id": "yU5Uyw1apgy-",
        "outputId": "33b668bc-5518-41df-f645-156086b1a8e4"
      },
      "outputs": [
        {
          "name": "stdout",
          "output_type": "stream",
          "text": [
            "0 番目の値は 1\n",
            "1 番目の値は 20\n",
            "2 番目の値は 300\n",
            "3 番目の値は 500\n"
          ]
        }
      ],
      "source": [
        "# enumerateを使うことで何番目の要素か同時に取得することができます。\n",
        "\n",
        "for i, n in enumerate(a):\n",
        "    print(i, \"番目の値は\", n)"
      ]
    },
    {
      "cell_type": "code",
      "execution_count": null,
      "metadata": {
        "id": "uGiUaKicpgy-",
        "outputId": "e906ae5b-166f-4f42-ba47-8b72aac54c8e"
      },
      "outputs": [
        {
          "name": "stdout",
          "output_type": "stream",
          "text": [
            "4\n",
            "0 番目の値は 1\n",
            "1 番目の値は 20\n",
            "2 番目の値は 300\n",
            "3 番目の値は 500\n"
          ]
        }
      ],
      "source": [
        "# len()を使うことでリストの長さを取得することができます。\n",
        "a = [1,20,300,500]\n",
        "print(len(a))\n",
        "\n",
        "# forと組み合わせることもできます。\n",
        "a = [1,20,300,500]\n",
        "# len(a)は4なので、range(4)は0,1,2,3を返します。\n",
        "for i in range(len(a)):\n",
        "    print(i, \"番目の値は\", a[i])"
      ]
    },
    {
      "cell_type": "markdown",
      "metadata": {
        "id": "eJwmcQrhpgy-"
      },
      "source": [
        "## 関数とクラス"
      ]
    },
    {
      "cell_type": "code",
      "execution_count": null,
      "metadata": {
        "id": "6j2RU_Ewpgy-"
      },
      "outputs": [],
      "source": [
        "# 関数の定義と利用\n",
        "# pythonは基本上から一行ずつ順番に実行されていきますが、関数は定義しても呼び出されるまで動きません。\n",
        "\n",
        "def add(x):  # defはdefine,　xは引数（ひきすう）。\n",
        "    x += 1\n",
        "    return x  # return ~~は戻り値\n",
        "\n",
        "\n",
        "def subtract(x,y): #引数は複数指定できます。\n",
        "    z = x - y\n",
        "    return z\n",
        "\n",
        "\n",
        "def add_and_subtract(x,y): #戻り値も複数指定できます。\n",
        "    z1 = x + y\n",
        "    z2 = x - y\n",
        "    return z1, z2\n",
        "\n",
        "\n",
        "def noreturn(z):\n",
        "    print (\"関数noreturnに入力されたデータは\",z,\"です\") #戻り値のない関数も定義できます。"
      ]
    },
    {
      "cell_type": "code",
      "execution_count": null,
      "metadata": {
        "id": "bSwDVo5Zpgy-",
        "outputId": "b66e7afc-891d-4eed-cb9b-4f09b0994e4c"
      },
      "outputs": [
        {
          "name": "stdout",
          "output_type": "stream",
          "text": [
            "2\n"
          ]
        }
      ],
      "source": [
        "a= add(1) #simple関数に1を入れると、関数内で1に1を加算して、2を返します。\n",
        "print(a)"
      ]
    },
    {
      "cell_type": "code",
      "execution_count": null,
      "metadata": {
        "id": "et5hYBmGpgy-",
        "outputId": "ef030343-9a4f-4949-8f0a-07273c6fde5e"
      },
      "outputs": [
        {
          "name": "stdout",
          "output_type": "stream",
          "text": [
            "-1\n",
            "3 -1\n",
            "関数noreturnに入力されたデータは 2 です\n"
          ]
        }
      ],
      "source": [
        "a = subtract(1,2)  # subtract関数に1と2を入れると、関数内で1-2を計算して、-1を返します。\n",
        "print(a)\n",
        "\n",
        "z1,z2 = add_and_subtract(1,2)  # add_and_subtract関数に1と2を入れると、関数内で1+2と1-2を計算して、3と-1を返します。\n",
        "print(z1, z2)\n",
        "\n",
        "noreturn(2)  # noreturn関数に2を入れると、戻り値はありませんが、関数内でprintされます。"
      ]
    },
    {
      "cell_type": "code",
      "execution_count": null,
      "metadata": {
        "id": "a8fwzoW2pgy-"
      },
      "outputs": [],
      "source": [
        "# プログラムが大きくなり、変数と関数が増えたり冗長的になると全体像が把握しにくくなります。「クラス」を利用しましょう。\n",
        "\n",
        "class Plant:\n",
        "    # クラスの中には変数と関数を定義できます。\n",
        "    # このクラスの中に定義された変数は「プロパティ」、関数は「メソッド」と呼ばれます。\n",
        "    # クラスの中に定義された変数と関数は「クラス変数」と「クラスメソッド」と呼ばれます。\n",
        "    def __init__(self):\n",
        "        # __init__はクラスの初期化を行う関数です。\n",
        "        # クラスを利用する際に、この関数が自動的に実行されます。\n",
        "        self.plantation_date = ''\n",
        "        self.biomass = ''\n",
        "        self.height = ''\n",
        "    def get_info(self):\n",
        "        # クラスの中に定義された関数は、第一引数にselfを指定する必要があります。\n",
        "        # selfはクラス自身を指します。\n",
        "        # self.変数名でクラス変数を利用できます。\n",
        "        message = \"planted in {}, biomass is {}, height is {}\".format(self.plantation_date, self.biomass, self.height)\n",
        "        return message"
      ]
    },
    {
      "cell_type": "code",
      "execution_count": null,
      "metadata": {
        "id": "GCrbE9IWpgy-",
        "outputId": "516660b8-4454-4d1d-853f-e13b40fde7c8"
      },
      "outputs": [
        {
          "name": "stdout",
          "output_type": "stream",
          "text": [
            "planted in 2018/5/1, biomass is 1.2, height is 10\n",
            "planted in 2018/5/1, biomass is 2.1, height is 50\n"
          ]
        }
      ],
      "source": [
        "# 自身でクラスを定義することは少々難しいかもしれません。\n",
        "# クラスの利用方法のみを理解するだけでも最初は十分です。\n",
        "rice = Plant()\n",
        "rice.plantation_date = '2018/5/1'\n",
        "rice.biomass = 1.2\n",
        "rice.height = 10\n",
        "\n",
        "corn = Plant()\n",
        "corn.plantation_date = '2018/5/1'\n",
        "corn.biomass = 2.1\n",
        "corn.height = 50\n",
        "\n",
        "\n",
        "print(rice.get_info())\n",
        "print(corn.get_info())\n"
      ]
    },
    {
      "cell_type": "code",
      "execution_count": null,
      "metadata": {
        "id": "mlFQvisDpgy-"
      },
      "outputs": [],
      "source": [
        "# クラスを使わなければ変数を階層構造無しでそれぞれ定義しなければなりません。\n",
        "# 変数が増えると管理が大変になります。\n",
        "\n",
        "rice_plantation_date = '2018/5/1'\n",
        "rice_biomass = 1.2\n",
        "rice_height = 10\n",
        "\n",
        "corn_plantation_date = '2018/5/1'\n",
        "corn_biomass = 2.1\n",
        "corn_height = 50"
      ]
    },
    {
      "cell_type": "markdown",
      "metadata": {
        "id": "8MUOoV5Gpgy-"
      },
      "source": [
        "## ライブラリの使い方\n",
        "pythonでは関数やクラスを定義し、駆使することで、プログラムを簡潔に記述することができます。しかしながら、必要な機能をすべて自分で定義するのは大変です。そのようなことをしなくても、pythonには標準で多くのライブラリが用意されています。それらを利用するには「import」を利用します。"
      ]
    },
    {
      "cell_type": "code",
      "execution_count": null,
      "metadata": {
        "id": "RUpCE4Thpgy-",
        "outputId": "4cd9dde1-57bf-458f-a7dd-1c82dd8794f5"
      },
      "outputs": [
        {
          "name": "stdout",
          "output_type": "stream",
          "text": [
            "2023-11-04\n",
            "2023-11-14\n",
            "2023-11-04 10:21:02.515728\n"
          ]
        }
      ],
      "source": [
        "# 例えばdatetimeというライブラリを使うと、日付の計算が簡単にできます。\n",
        "# このライブラリは標準で入っているので、インストールは不要です。\n",
        "import datetime\n",
        "today = datetime.date.today()\n",
        "print(today)\n",
        "# 今日から10日後の日付を計算する。\n",
        "ten_days_later = today + datetime.timedelta(days=10)\n",
        "print(ten_days_later)\n",
        "# 時間も取得できます。\n",
        "now = datetime.datetime.now()\n",
        "print(now)"
      ]
    },
    {
      "cell_type": "markdown",
      "metadata": {
        "id": "rIDYz4MQpgy_"
      },
      "source": [
        "数値計算にはnumpyというライブラリをインポートし、利用することが多いです。\n",
        "```python\n",
        "import numpy as np\n",
        "a = np.array([1,2,3])\n",
        "print(a)  # [1 2 3]\n",
        "```\n",
        "import numpyとしても使用できますが、下のように文字数が増えるので、npという別名をつけて利用することが多いです。\n",
        "```python\n",
        "import numpy\n",
        "a = numpy.array([1,2,3])\n",
        "print(a)  # [1 2 3]\n",
        "```\n",
        "\n",
        "画像は３次元配列で表現され、必ずといっていいほど使われるので、numpyの使い方は覚えておきましょう。"
      ]
    },
    {
      "cell_type": "code",
      "execution_count": null,
      "metadata": {
        "id": "2jFHGyGipgy_",
        "outputId": "115b5f91-2777-4dcc-b0ed-5f1ff4d0e899"
      },
      "outputs": [
        {
          "name": "stdout",
          "output_type": "stream",
          "text": [
            "[1 2 3 4 5]\n",
            "15\n",
            "3.0\n",
            "3.0\n",
            "1.4142135623730951\n",
            "[1.         1.41421356 1.73205081 2.         2.23606798]\n",
            "[0.         0.69314718 1.09861229 1.38629436 1.60943791]\n",
            "[  2.71828183   7.3890561   20.08553692  54.59815003 148.4131591 ]\n",
            "(5,)\n",
            "int64\n",
            "_______\n",
            "(32, 32, 3)\n",
            "uint8\n"
          ]
        }
      ],
      "source": [
        "import numpy as np\n",
        "a = np.array([1,2,3,4,5])  # numpyのarrayという関数を利用して、リストをnumpyの配列に変換します。\n",
        "\n",
        "# リストと異なり、numpyの配列は数値計算に特化しているので、合計や平均などの計算が簡単にできます。\n",
        "print(a)\n",
        "print(np.sum(a))  # sumは合計を意味します。\n",
        "print(np.mean(a))  # meanは平均を意味します。\n",
        "print(np.median(a))  # medianは中央値を意味します。\n",
        "print(np.std(a))  # stdは標準偏差を意味します。\n",
        "print(np.sqrt(a))  # sqrtは平方根を意味します。\n",
        "print(np.log(a))  # logは自然対数を意味します。\n",
        "print(np.exp(a))  # expは指数関数を意味します。\n",
        "\n",
        "print(a.shape)  # shapeは配列の形状を意味します。\n",
        "print(a.dtype)  # dtypeは配列のデータ型を意味します。\n",
        "print(\"_______\")\n",
        "\n",
        "# 多次元配列の作成\n",
        "image = np.zeros((32,32,3), dtype=np.uint8)  # 32x32のRGB画像を作成します。\n",
        "print(image.shape)\n",
        "print(image.dtype)\n"
      ]
    },
    {
      "cell_type": "markdown",
      "metadata": {
        "id": "5o0VgTQXrSgh"
      },
      "source": [
        "## ファイル読み込み・書き込み\n",
        "with open(~, ~) as f:でファイルを読み込んだり、書き込んだりすることができます。\n",
        "下のセルを実行後、画面左のディレクトリ更新ボタン（ブラウザの更新ボタンではありません）を押すか、しばらくまつとtemp.txtというファイルが生成されることを確認してください。"
      ]
    },
    {
      "cell_type": "code",
      "execution_count": 12,
      "metadata": {
        "id": "PVCCZtfWreE4"
      },
      "outputs": [],
      "source": [
        "# ファイルの書き出し\n",
        "\n",
        "# \\nは改行コードです。\n",
        "test_file = \"temp.txt\"\n",
        "with open(test_file, \"w\") as f:  # wは書き込みモードを意味します。\n",
        "    f.write(\"this is test text\\n\")\n",
        "    f.write(\"second line\")"
      ]
    },
    {
      "cell_type": "code",
      "execution_count": 15,
      "metadata": {
        "colab": {
          "base_uri": "https://localhost:8080/"
        },
        "id": "S3jpSHHvs7rn",
        "outputId": "95c0e4cf-a228-422c-e703-cc45921c62a3"
      },
      "outputs": [
        {
          "name": "stdout",
          "output_type": "stream",
          "text": [
            "this is test text\n",
            "second line\n"
          ]
        }
      ],
      "source": [
        "# ファイルの読み込み\n",
        "with open(test_file, \"r\") as f:  # rは読み込みモードを意味します。\n",
        "    line = f.read()\n",
        "    print(line)"
      ]
    },
    {
      "cell_type": "markdown",
      "metadata": {
        "id": "gByCMAFAtZEa"
      },
      "source": [
        "上記のような方法でファイルを操作する場合、他にもf.writelines(~)、f.readlines()などリストとして扱うなどのアプローチもあります。調べてみてください。\n",
        "\n",
        "\n",
        "ところで、実際には下のようにcsvやpandasの機能を使うことが（植物画像解析）コーディングの現場では多いものの、pythonの基本ですので覚えてください。pandasを利用したデータフレーム操作については別章で扱います。"
      ]
    },
    {
      "cell_type": "code",
      "execution_count": 18,
      "metadata": {
        "colab": {
          "base_uri": "https://localhost:8080/"
        },
        "id": "zbhrqAETtX9f",
        "outputId": "53256988-7cf7-4f5c-93de-4bb51e336e83"
      },
      "outputs": [
        {
          "name": "stdout",
          "output_type": "stream",
          "text": [
            "['longitude', 'latitude', 'housing_median_age', 'total_rooms', 'total_bedrooms', 'population', 'households', 'median_income', 'median_house_value']\n",
            "['-122.050000', '37.370000', '27.000000', '3885.000000', '661.000000', '1537.000000', '606.000000', '6.608500', '344700.000000']\n",
            "['-118.300000', '34.260000', '43.000000', '1510.000000', '310.000000', '809.000000', '277.000000', '3.599000', '176500.000000']\n",
            "['-117.810000', '33.780000', '27.000000', '3589.000000', '507.000000', '1484.000000', '495.000000', '5.793400', '270500.000000']\n"
          ]
        }
      ],
      "source": [
        "# csvファイルを扱う場合はcsvライブラリやpandasを使うことがあります。\n",
        "import csv\n",
        "\n",
        "csv_path = \"/content/sample_data/california_housing_test.csv\"\n",
        "\n",
        "with open(csv_path, 'r') as file:\n",
        "    reader = csv.reader(file)\n",
        "    for i, row in enumerate(reader):\n",
        "        print(row)\n",
        "        if i == 3:  # ４行分出力したら止める\n",
        "            break"
      ]
    },
    {
      "cell_type": "code",
      "execution_count": 20,
      "metadata": {
        "colab": {
          "base_uri": "https://localhost:8080/",
          "height": 444
        },
        "id": "Q66VF60uvQG4",
        "outputId": "42957ef3-dfb4-4f7d-ae39-6478c6706bf2"
      },
      "outputs": [
        {
          "data": {
            "text/html": [
              "\n",
              "  <div id=\"df-899ee5c5-41bd-4a47-851b-8af8f24a2f78\" class=\"colab-df-container\">\n",
              "    <div>\n",
              "<style scoped>\n",
              "    .dataframe tbody tr th:only-of-type {\n",
              "        vertical-align: middle;\n",
              "    }\n",
              "\n",
              "    .dataframe tbody tr th {\n",
              "        vertical-align: top;\n",
              "    }\n",
              "\n",
              "    .dataframe thead th {\n",
              "        text-align: right;\n",
              "    }\n",
              "</style>\n",
              "<table border=\"1\" class=\"dataframe\">\n",
              "  <thead>\n",
              "    <tr style=\"text-align: right;\">\n",
              "      <th></th>\n",
              "      <th>longitude</th>\n",
              "      <th>latitude</th>\n",
              "      <th>housing_median_age</th>\n",
              "      <th>total_rooms</th>\n",
              "      <th>total_bedrooms</th>\n",
              "      <th>population</th>\n",
              "      <th>households</th>\n",
              "      <th>median_income</th>\n",
              "      <th>median_house_value</th>\n",
              "    </tr>\n",
              "  </thead>\n",
              "  <tbody>\n",
              "    <tr>\n",
              "      <th>0</th>\n",
              "      <td>-122.05</td>\n",
              "      <td>37.37</td>\n",
              "      <td>27.0</td>\n",
              "      <td>3885.0</td>\n",
              "      <td>661.0</td>\n",
              "      <td>1537.0</td>\n",
              "      <td>606.0</td>\n",
              "      <td>6.6085</td>\n",
              "      <td>344700.0</td>\n",
              "    </tr>\n",
              "    <tr>\n",
              "      <th>1</th>\n",
              "      <td>-118.30</td>\n",
              "      <td>34.26</td>\n",
              "      <td>43.0</td>\n",
              "      <td>1510.0</td>\n",
              "      <td>310.0</td>\n",
              "      <td>809.0</td>\n",
              "      <td>277.0</td>\n",
              "      <td>3.5990</td>\n",
              "      <td>176500.0</td>\n",
              "    </tr>\n",
              "    <tr>\n",
              "      <th>2</th>\n",
              "      <td>-117.81</td>\n",
              "      <td>33.78</td>\n",
              "      <td>27.0</td>\n",
              "      <td>3589.0</td>\n",
              "      <td>507.0</td>\n",
              "      <td>1484.0</td>\n",
              "      <td>495.0</td>\n",
              "      <td>5.7934</td>\n",
              "      <td>270500.0</td>\n",
              "    </tr>\n",
              "    <tr>\n",
              "      <th>3</th>\n",
              "      <td>-118.36</td>\n",
              "      <td>33.82</td>\n",
              "      <td>28.0</td>\n",
              "      <td>67.0</td>\n",
              "      <td>15.0</td>\n",
              "      <td>49.0</td>\n",
              "      <td>11.0</td>\n",
              "      <td>6.1359</td>\n",
              "      <td>330000.0</td>\n",
              "    </tr>\n",
              "    <tr>\n",
              "      <th>4</th>\n",
              "      <td>-119.67</td>\n",
              "      <td>36.33</td>\n",
              "      <td>19.0</td>\n",
              "      <td>1241.0</td>\n",
              "      <td>244.0</td>\n",
              "      <td>850.0</td>\n",
              "      <td>237.0</td>\n",
              "      <td>2.9375</td>\n",
              "      <td>81700.0</td>\n",
              "    </tr>\n",
              "    <tr>\n",
              "      <th>...</th>\n",
              "      <td>...</td>\n",
              "      <td>...</td>\n",
              "      <td>...</td>\n",
              "      <td>...</td>\n",
              "      <td>...</td>\n",
              "      <td>...</td>\n",
              "      <td>...</td>\n",
              "      <td>...</td>\n",
              "      <td>...</td>\n",
              "    </tr>\n",
              "    <tr>\n",
              "      <th>2995</th>\n",
              "      <td>-119.86</td>\n",
              "      <td>34.42</td>\n",
              "      <td>23.0</td>\n",
              "      <td>1450.0</td>\n",
              "      <td>642.0</td>\n",
              "      <td>1258.0</td>\n",
              "      <td>607.0</td>\n",
              "      <td>1.1790</td>\n",
              "      <td>225000.0</td>\n",
              "    </tr>\n",
              "    <tr>\n",
              "      <th>2996</th>\n",
              "      <td>-118.14</td>\n",
              "      <td>34.06</td>\n",
              "      <td>27.0</td>\n",
              "      <td>5257.0</td>\n",
              "      <td>1082.0</td>\n",
              "      <td>3496.0</td>\n",
              "      <td>1036.0</td>\n",
              "      <td>3.3906</td>\n",
              "      <td>237200.0</td>\n",
              "    </tr>\n",
              "    <tr>\n",
              "      <th>2997</th>\n",
              "      <td>-119.70</td>\n",
              "      <td>36.30</td>\n",
              "      <td>10.0</td>\n",
              "      <td>956.0</td>\n",
              "      <td>201.0</td>\n",
              "      <td>693.0</td>\n",
              "      <td>220.0</td>\n",
              "      <td>2.2895</td>\n",
              "      <td>62000.0</td>\n",
              "    </tr>\n",
              "    <tr>\n",
              "      <th>2998</th>\n",
              "      <td>-117.12</td>\n",
              "      <td>34.10</td>\n",
              "      <td>40.0</td>\n",
              "      <td>96.0</td>\n",
              "      <td>14.0</td>\n",
              "      <td>46.0</td>\n",
              "      <td>14.0</td>\n",
              "      <td>3.2708</td>\n",
              "      <td>162500.0</td>\n",
              "    </tr>\n",
              "    <tr>\n",
              "      <th>2999</th>\n",
              "      <td>-119.63</td>\n",
              "      <td>34.42</td>\n",
              "      <td>42.0</td>\n",
              "      <td>1765.0</td>\n",
              "      <td>263.0</td>\n",
              "      <td>753.0</td>\n",
              "      <td>260.0</td>\n",
              "      <td>8.5608</td>\n",
              "      <td>500001.0</td>\n",
              "    </tr>\n",
              "  </tbody>\n",
              "</table>\n",
              "<p>3000 rows × 9 columns</p>\n",
              "</div>\n",
              "    <div class=\"colab-df-buttons\">\n",
              "\n",
              "  <div class=\"colab-df-container\">\n",
              "    <button class=\"colab-df-convert\" onclick=\"convertToInteractive('df-899ee5c5-41bd-4a47-851b-8af8f24a2f78')\"\n",
              "            title=\"Convert this dataframe to an interactive table.\"\n",
              "            style=\"display:none;\">\n",
              "\n",
              "  <svg xmlns=\"http://www.w3.org/2000/svg\" height=\"24px\" viewBox=\"0 -960 960 960\">\n",
              "    <path d=\"M120-120v-720h720v720H120Zm60-500h600v-160H180v160Zm220 220h160v-160H400v160Zm0 220h160v-160H400v160ZM180-400h160v-160H180v160Zm440 0h160v-160H620v160ZM180-180h160v-160H180v160Zm440 0h160v-160H620v160Z\"/>\n",
              "  </svg>\n",
              "    </button>\n",
              "\n",
              "  <style>\n",
              "    .colab-df-container {\n",
              "      display:flex;\n",
              "      gap: 12px;\n",
              "    }\n",
              "\n",
              "    .colab-df-convert {\n",
              "      background-color: #E8F0FE;\n",
              "      border: none;\n",
              "      border-radius: 50%;\n",
              "      cursor: pointer;\n",
              "      display: none;\n",
              "      fill: #1967D2;\n",
              "      height: 32px;\n",
              "      padding: 0 0 0 0;\n",
              "      width: 32px;\n",
              "    }\n",
              "\n",
              "    .colab-df-convert:hover {\n",
              "      background-color: #E2EBFA;\n",
              "      box-shadow: 0px 1px 2px rgba(60, 64, 67, 0.3), 0px 1px 3px 1px rgba(60, 64, 67, 0.15);\n",
              "      fill: #174EA6;\n",
              "    }\n",
              "\n",
              "    .colab-df-buttons div {\n",
              "      margin-bottom: 4px;\n",
              "    }\n",
              "\n",
              "    [theme=dark] .colab-df-convert {\n",
              "      background-color: #3B4455;\n",
              "      fill: #D2E3FC;\n",
              "    }\n",
              "\n",
              "    [theme=dark] .colab-df-convert:hover {\n",
              "      background-color: #434B5C;\n",
              "      box-shadow: 0px 1px 3px 1px rgba(0, 0, 0, 0.15);\n",
              "      filter: drop-shadow(0px 1px 2px rgba(0, 0, 0, 0.3));\n",
              "      fill: #FFFFFF;\n",
              "    }\n",
              "  </style>\n",
              "\n",
              "    <script>\n",
              "      const buttonEl =\n",
              "        document.querySelector('#df-899ee5c5-41bd-4a47-851b-8af8f24a2f78 button.colab-df-convert');\n",
              "      buttonEl.style.display =\n",
              "        google.colab.kernel.accessAllowed ? 'block' : 'none';\n",
              "\n",
              "      async function convertToInteractive(key) {\n",
              "        const element = document.querySelector('#df-899ee5c5-41bd-4a47-851b-8af8f24a2f78');\n",
              "        const dataTable =\n",
              "          await google.colab.kernel.invokeFunction('convertToInteractive',\n",
              "                                                    [key], {});\n",
              "        if (!dataTable) return;\n",
              "\n",
              "        const docLinkHtml = 'Like what you see? Visit the ' +\n",
              "          '<a target=\"_blank\" href=https://colab.research.google.com/notebooks/data_table.ipynb>data table notebook</a>'\n",
              "          + ' to learn more about interactive tables.';\n",
              "        element.innerHTML = '';\n",
              "        dataTable['output_type'] = 'display_data';\n",
              "        await google.colab.output.renderOutput(dataTable, element);\n",
              "        const docLink = document.createElement('div');\n",
              "        docLink.innerHTML = docLinkHtml;\n",
              "        element.appendChild(docLink);\n",
              "      }\n",
              "    </script>\n",
              "  </div>\n",
              "\n",
              "\n",
              "<div id=\"df-cc4668ed-44d2-4a1c-8243-5da7d627af7b\">\n",
              "  <button class=\"colab-df-quickchart\" onclick=\"quickchart('df-cc4668ed-44d2-4a1c-8243-5da7d627af7b')\"\n",
              "            title=\"Suggest charts.\"\n",
              "            style=\"display:none;\">\n",
              "\n",
              "<svg xmlns=\"http://www.w3.org/2000/svg\" height=\"24px\"viewBox=\"0 0 24 24\"\n",
              "     width=\"24px\">\n",
              "    <g>\n",
              "        <path d=\"M19 3H5c-1.1 0-2 .9-2 2v14c0 1.1.9 2 2 2h14c1.1 0 2-.9 2-2V5c0-1.1-.9-2-2-2zM9 17H7v-7h2v7zm4 0h-2V7h2v10zm4 0h-2v-4h2v4z\"/>\n",
              "    </g>\n",
              "</svg>\n",
              "  </button>\n",
              "\n",
              "<style>\n",
              "  .colab-df-quickchart {\n",
              "      --bg-color: #E8F0FE;\n",
              "      --fill-color: #1967D2;\n",
              "      --hover-bg-color: #E2EBFA;\n",
              "      --hover-fill-color: #174EA6;\n",
              "      --disabled-fill-color: #AAA;\n",
              "      --disabled-bg-color: #DDD;\n",
              "  }\n",
              "\n",
              "  [theme=dark] .colab-df-quickchart {\n",
              "      --bg-color: #3B4455;\n",
              "      --fill-color: #D2E3FC;\n",
              "      --hover-bg-color: #434B5C;\n",
              "      --hover-fill-color: #FFFFFF;\n",
              "      --disabled-bg-color: #3B4455;\n",
              "      --disabled-fill-color: #666;\n",
              "  }\n",
              "\n",
              "  .colab-df-quickchart {\n",
              "    background-color: var(--bg-color);\n",
              "    border: none;\n",
              "    border-radius: 50%;\n",
              "    cursor: pointer;\n",
              "    display: none;\n",
              "    fill: var(--fill-color);\n",
              "    height: 32px;\n",
              "    padding: 0;\n",
              "    width: 32px;\n",
              "  }\n",
              "\n",
              "  .colab-df-quickchart:hover {\n",
              "    background-color: var(--hover-bg-color);\n",
              "    box-shadow: 0 1px 2px rgba(60, 64, 67, 0.3), 0 1px 3px 1px rgba(60, 64, 67, 0.15);\n",
              "    fill: var(--button-hover-fill-color);\n",
              "  }\n",
              "\n",
              "  .colab-df-quickchart-complete:disabled,\n",
              "  .colab-df-quickchart-complete:disabled:hover {\n",
              "    background-color: var(--disabled-bg-color);\n",
              "    fill: var(--disabled-fill-color);\n",
              "    box-shadow: none;\n",
              "  }\n",
              "\n",
              "  .colab-df-spinner {\n",
              "    border: 2px solid var(--fill-color);\n",
              "    border-color: transparent;\n",
              "    border-bottom-color: var(--fill-color);\n",
              "    animation:\n",
              "      spin 1s steps(1) infinite;\n",
              "  }\n",
              "\n",
              "  @keyframes spin {\n",
              "    0% {\n",
              "      border-color: transparent;\n",
              "      border-bottom-color: var(--fill-color);\n",
              "      border-left-color: var(--fill-color);\n",
              "    }\n",
              "    20% {\n",
              "      border-color: transparent;\n",
              "      border-left-color: var(--fill-color);\n",
              "      border-top-color: var(--fill-color);\n",
              "    }\n",
              "    30% {\n",
              "      border-color: transparent;\n",
              "      border-left-color: var(--fill-color);\n",
              "      border-top-color: var(--fill-color);\n",
              "      border-right-color: var(--fill-color);\n",
              "    }\n",
              "    40% {\n",
              "      border-color: transparent;\n",
              "      border-right-color: var(--fill-color);\n",
              "      border-top-color: var(--fill-color);\n",
              "    }\n",
              "    60% {\n",
              "      border-color: transparent;\n",
              "      border-right-color: var(--fill-color);\n",
              "    }\n",
              "    80% {\n",
              "      border-color: transparent;\n",
              "      border-right-color: var(--fill-color);\n",
              "      border-bottom-color: var(--fill-color);\n",
              "    }\n",
              "    90% {\n",
              "      border-color: transparent;\n",
              "      border-bottom-color: var(--fill-color);\n",
              "    }\n",
              "  }\n",
              "</style>\n",
              "\n",
              "  <script>\n",
              "    async function quickchart(key) {\n",
              "      const quickchartButtonEl =\n",
              "        document.querySelector('#' + key + ' button');\n",
              "      quickchartButtonEl.disabled = true;  // To prevent multiple clicks.\n",
              "      quickchartButtonEl.classList.add('colab-df-spinner');\n",
              "      try {\n",
              "        const charts = await google.colab.kernel.invokeFunction(\n",
              "            'suggestCharts', [key], {});\n",
              "      } catch (error) {\n",
              "        console.error('Error during call to suggestCharts:', error);\n",
              "      }\n",
              "      quickchartButtonEl.classList.remove('colab-df-spinner');\n",
              "      quickchartButtonEl.classList.add('colab-df-quickchart-complete');\n",
              "    }\n",
              "    (() => {\n",
              "      let quickchartButtonEl =\n",
              "        document.querySelector('#df-cc4668ed-44d2-4a1c-8243-5da7d627af7b button');\n",
              "      quickchartButtonEl.style.display =\n",
              "        google.colab.kernel.accessAllowed ? 'block' : 'none';\n",
              "    })();\n",
              "  </script>\n",
              "</div>\n",
              "    </div>\n",
              "  </div>\n"
            ],
            "text/plain": [
              "      longitude  latitude  housing_median_age  total_rooms  total_bedrooms  \\\n",
              "0       -122.05     37.37                27.0       3885.0           661.0   \n",
              "1       -118.30     34.26                43.0       1510.0           310.0   \n",
              "2       -117.81     33.78                27.0       3589.0           507.0   \n",
              "3       -118.36     33.82                28.0         67.0            15.0   \n",
              "4       -119.67     36.33                19.0       1241.0           244.0   \n",
              "...         ...       ...                 ...          ...             ...   \n",
              "2995    -119.86     34.42                23.0       1450.0           642.0   \n",
              "2996    -118.14     34.06                27.0       5257.0          1082.0   \n",
              "2997    -119.70     36.30                10.0        956.0           201.0   \n",
              "2998    -117.12     34.10                40.0         96.0            14.0   \n",
              "2999    -119.63     34.42                42.0       1765.0           263.0   \n",
              "\n",
              "      population  households  median_income  median_house_value  \n",
              "0         1537.0       606.0         6.6085            344700.0  \n",
              "1          809.0       277.0         3.5990            176500.0  \n",
              "2         1484.0       495.0         5.7934            270500.0  \n",
              "3           49.0        11.0         6.1359            330000.0  \n",
              "4          850.0       237.0         2.9375             81700.0  \n",
              "...          ...         ...            ...                 ...  \n",
              "2995      1258.0       607.0         1.1790            225000.0  \n",
              "2996      3496.0      1036.0         3.3906            237200.0  \n",
              "2997       693.0       220.0         2.2895             62000.0  \n",
              "2998        46.0        14.0         3.2708            162500.0  \n",
              "2999       753.0       260.0         8.5608            500001.0  \n",
              "\n",
              "[3000 rows x 9 columns]"
            ]
          },
          "execution_count": 20,
          "metadata": {},
          "output_type": "execute_result"
        }
      ],
      "source": [
        "import pandas as pd\n",
        "\n",
        "df = pd.read_csv(csv_path)\n",
        "df"
      ]
    },
    {
      "cell_type": "markdown",
      "metadata": {
        "id": "AhDhPFXzxixY"
      },
      "source": [
        "## リスト内包表記\n",
        "例えば[1,2,3,4,5,6]というリストに対し、\n",
        "\n",
        "1. それぞれの要素を２倍したリストを作りたい。\n",
        "\n",
        "2. 偶数のみを抽出したリストを作りたい。\n",
        "\n",
        "という場合、これまでのハンズオンで記載した方法のみで実現すると下記のようなコードを実装する必要があります。"
      ]
    },
    {
      "cell_type": "code",
      "execution_count": 41,
      "metadata": {
        "colab": {
          "base_uri": "https://localhost:8080/"
        },
        "id": "p5Anl_1IxmhN",
        "outputId": "6a7f3a9b-e9f0-423b-83da-6fc720e1be97"
      },
      "outputs": [
        {
          "name": "stdout",
          "output_type": "stream",
          "text": [
            "[2, 4, 6, 8, 10, 12]\n",
            "[2, 4, 6]\n"
          ]
        }
      ],
      "source": [
        "# ２倍操作\n",
        "a = [1,2,3,4,5,6]\n",
        "b = []  # 空のリスト\n",
        "\n",
        "for value in a:\n",
        "    b.append(value * 2)\n",
        "print(b)\n",
        "\n",
        "# 偶数のみ抽出\n",
        "c = []  # 空のリスト\n",
        "\n",
        "for value in a:\n",
        "    if value % 2 == 0: # ２で割ったときの剰余が０の場合\n",
        "        c.append(value)\n",
        "print(c)"
      ]
    },
    {
      "cell_type": "markdown",
      "metadata": {
        "id": "diJF5F1izuix"
      },
      "source": [
        "一方、リスト内包表記を使うともっと簡潔に書くことができます。xはなんでもよいですが、混乱を避けるため、元の変数と重複しないように注意してください。\n",
        "\n",
        "```python\n",
        "# 基本形\n",
        "[x for x in some_list]\n",
        "# 個々の要素に操作\n",
        "[x + 1 for x in some_list]\n",
        "# 条件によるフィルタリング\n",
        "[x for x in some_list if x > 0]\n",
        "```\n"
      ]
    },
    {
      "cell_type": "code",
      "execution_count": 42,
      "metadata": {
        "colab": {
          "base_uri": "https://localhost:8080/"
        },
        "id": "n9biVxUwzrJA",
        "outputId": "4359d0d6-5e25-498d-a1a2-0a31f95133c6"
      },
      "outputs": [
        {
          "name": "stdout",
          "output_type": "stream",
          "text": [
            "[2, 4, 6, 8, 10, 12]\n",
            "[2, 4, 6]\n"
          ]
        }
      ],
      "source": [
        "a = [1,2,3,4,5,6]\n",
        "\n",
        "# 2倍\n",
        "b = [2*x for x in a]\n",
        "print(b)\n",
        "\n",
        "# 偶数のみ\n",
        "c = [x for x in a if x%2 == 0]\n",
        "print(c)\n"
      ]
    },
    {
      "cell_type": "markdown",
      "metadata": {
        "id": "V6qc9p78pgy_"
      },
      "source": [
        "## フォルダ・ファイル・ディレクトリ操作\n"
      ]
    },
    {
      "cell_type": "code",
      "execution_count": 23,
      "metadata": {
        "colab": {
          "base_uri": "https://localhost:8080/"
        },
        "id": "XhNtn7b2pgy_",
        "outputId": "8ada761c-206c-4d45-a282-903f08ed9c81"
      },
      "outputs": [
        {
          "name": "stdout",
          "output_type": "stream",
          "text": [
            "['anscombe.json', 'README.md', 'mnist_test.csv', 'california_housing_train.csv', 'california_housing_test.csv', 'mnist_train_small.csv']\n"
          ]
        }
      ],
      "source": [
        "import os\n",
        "\n",
        "# 指定ディレクトリにあるフォルダ一覧をリストとして取得\n",
        "files = os.listdir(\"sample_data\")\n",
        "print(files)"
      ]
    },
    {
      "cell_type": "code",
      "execution_count": 44,
      "metadata": {
        "colab": {
          "base_uri": "https://localhost:8080/"
        },
        "id": "UCUeD0Zow8lO",
        "outputId": "ca3fc830-9fc8-4bf4-c9b6-1f42ae4d7950"
      },
      "outputs": [
        {
          "name": "stdout",
          "output_type": "stream",
          "text": [
            "anscombe.json\n",
            "/content/sample_data/anscombe.json\n"
          ]
        }
      ],
      "source": [
        "# os.path.joinで指定したディレクトリとファイル名を結合して、ファイルのパスを作成する。\n",
        "# Colaboratoryの作業ディレクトリは/content直下にあるため、\n",
        "# contentフォルダの中のsample_dataというパスになります。\n",
        "file = files[0]\n",
        "path = os.path.join(\"/content/sample_data\", file)\n",
        "print(file)\n",
        "print(path)"
      ]
    },
    {
      "cell_type": "code",
      "execution_count": 47,
      "metadata": {
        "colab": {
          "base_uri": "https://localhost:8080/"
        },
        "id": "CdS828CjxT-h",
        "outputId": "dcb905c7-7ded-46e1-f9be-90864f90ed8b"
      },
      "outputs": [
        {
          "name": "stdout",
          "output_type": "stream",
          "text": [
            "/content/sample_data/anscombe.json\n",
            "/content/sample_data/README.md\n",
            "/content/sample_data/mnist_test.csv\n",
            "/content/sample_data/california_housing_train.csv\n",
            "/content/sample_data/california_housing_test.csv\n",
            "/content/sample_data/mnist_train_small.csv\n"
          ]
        }
      ],
      "source": [
        "# for loopを使えば順次同じ処理を適用させることができます。\n",
        "\n",
        "for file in files:\n",
        "    path = os.path.join(\"/content/sample_data\", file)\n",
        "    print(path)"
      ]
    },
    {
      "cell_type": "markdown",
      "metadata": {
        "id": "sKrPhDPKpgy_"
      },
      "source": [
        "## マジックコマンドの活用\n",
        "\n",
        "Colaboratoy (Jupyter Notebook)では、シェルコマンドやColaboratoryの便利機能を活用することができます。\n"
      ]
    },
    {
      "cell_type": "code",
      "execution_count": 50,
      "metadata": {
        "colab": {
          "base_uri": "https://localhost:8080/"
        },
        "id": "FlS8QBMv1cLl",
        "outputId": "b4a20615-ce4b-44e2-8b4c-e07f35540cf9"
      },
      "outputs": [
        {
          "name": "stdout",
          "output_type": "stream",
          "text": [
            "/content\n"
          ]
        }
      ],
      "source": [
        "# 現在の作業ディレクトリ（present working directory）\n",
        "!pwd"
      ]
    },
    {
      "cell_type": "code",
      "execution_count": 52,
      "metadata": {
        "colab": {
          "base_uri": "https://localhost:8080/"
        },
        "id": "75mouY41pgzA",
        "outputId": "afc2bdcf-bfda-4ea7-e1e5-1ce309acc436"
      },
      "outputs": [
        {
          "name": "stdout",
          "output_type": "stream",
          "text": [
            "sample_data  temp.txt\n"
          ]
        }
      ],
      "source": [
        "# ファイル一覧取得\n",
        "!ls"
      ]
    },
    {
      "cell_type": "code",
      "execution_count": 57,
      "metadata": {
        "colab": {
          "base_uri": "https://localhost:8080/"
        },
        "id": "eF7mx4uTpgzA",
        "outputId": "c3ed8c51-6f7d-4de8-8f6d-16035837ff47"
      },
      "outputs": [
        {
          "name": "stdout",
          "output_type": "stream",
          "text": [
            "sample_data  tempfolder  temp.txt\n",
            "sample_data  temp.txt\n"
          ]
        }
      ],
      "source": [
        "# フォルダ作成\n",
        "!mkdir tempfolder\n",
        "!ls\n",
        "# フォルダ削除\n",
        "!rm -r tempfolder\n",
        "!ls"
      ]
    }
  ],
  "metadata": {
    "colab": {
      "provenance": []
    },
    "kernelspec": {
      "display_name": "Python 3",
      "language": "python",
      "name": "python3"
    },
    "language_info": {
      "codemirror_mode": {
        "name": "ipython",
        "version": 3
      },
      "file_extension": ".py",
      "mimetype": "text/x-python",
      "name": "python",
      "nbconvert_exporter": "python",
      "pygments_lexer": "ipython3",
      "version": "3.9.12"
    },
    "orig_nbformat": 4
  },
  "nbformat": 4,
  "nbformat_minor": 0
}
