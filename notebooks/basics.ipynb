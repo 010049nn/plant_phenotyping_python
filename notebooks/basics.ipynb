{
 "cells": [
  {
   "cell_type": "markdown",
   "metadata": {},
   "source": [
    "# 植物画像解析のためのcolaboratoryの基本的な使い方"
   ]
  },
  {
   "cell_type": "markdown",
   "metadata": {},
   "source": [
    "## はじめに\n",
    "- Google Colaboratoryで植物画像解析を行う場合における基礎的な操作について紹介します。\n",
    "\n",
    "- PythonおよびColaboratoryについて経験のある方は本稿を飛ばしてもらっても構いません。\n",
    "\n",
    "- **Google Chome**を利用してこの画面を開いていますか？他のブラウザでも実行可能ですが、一部の機能が正常に実行されなかったり、挙動が異なることがあります。\n",
    "\n",
    "- 入れていない場合は、[Google Chromeをダウンロードしてインストール](https://www.google.com/intl/ja_jp/chrome/)　してからこのURLを開いてください。\n",
    "\n",
    "- Google Colaboratoryの一般的な使い方を学習したい人は[公式のノートブック](https://colab.research.google.com/notebooks/welcome.ipynb?hl=ja)を参照しましょう。"
   ]
  },
  {
   "cell_type": "markdown",
   "metadata": {},
   "source": [
    "このノートブック（ハンズオン資料）を、自分のgoogle driveの中に保存してください。画面上部の**ファイルをクリックし、ドライブにコピーを保存**を選択します。新しいタブが立ち上がりますので、古い方は閉じておきましょう。コピーしなくても実行可能ですが、機能が制限されます。\n",
    "\n",
    "自分でコードを書き換えてしまった結果、正常に実行しなくなって戻せなくなった場合はこのノートブックを再コピーすれば最初から始めることができます。\n",
    "\n",
    "途中からコードを実行したりセルの実行を飛ばすとエラーが起きることがあります。何をやっているか自信がない人は、上から順番に実行していきましょう。"
   ]
  },
  {
   "cell_type": "markdown",
   "metadata": {},
   "source": [
    "## pyhtonの基礎その１"
   ]
  },
  {
   "cell_type": "code",
   "execution_count": 1,
   "metadata": {},
   "outputs": [],
   "source": [
    "# pythonでは行頭に半角の「#」を挿入する事で\n",
    "# プログラムには関係ないコメント行（メモや説明）として扱うことができます。\n",
    "# それ以外の行は全てコードとして処理されます。"
   ]
  },
  {
   "cell_type": "code",
   "execution_count": 2,
   "metadata": {},
   "outputs": [
    {
     "name": "stdout",
     "output_type": "stream",
     "text": [
      "hello world!\n"
     ]
    }
   ],
   "source": [
    "# 基本。プリントで任意の情報を出力します。\n",
    "\n",
    "print(\"hello world!\")"
   ]
  },
  {
   "cell_type": "code",
   "execution_count": 5,
   "metadata": {},
   "outputs": [
    {
     "ename": "SyntaxError",
     "evalue": "Missing parentheses in call to 'print'. Did you mean print(hello world!)? (<ipython-input-5-5022060e55cf>, line 2)",
     "output_type": "error",
     "traceback": [
      "\u001b[0;36m  File \u001b[0;32m\"<ipython-input-5-5022060e55cf>\"\u001b[0;36m, line \u001b[0;32m2\u001b[0m\n\u001b[0;31m    print hello world!\u001b[0m\n\u001b[0m          ^\u001b[0m\n\u001b[0;31mSyntaxError\u001b[0m\u001b[0;31m:\u001b[0m Missing parentheses in call to 'print'. Did you mean print(hello world!)?\n"
     ]
    }
   ],
   "source": [
    "# エラーが出たら落ち着いてエラーメッセージを確認し、原因を理解しましょう\n",
    "print hello world!"
   ]
  },
  {
   "cell_type": "code",
   "execution_count": 6,
   "metadata": {},
   "outputs": [
    {
     "name": "stdout",
     "output_type": "stream",
     "text": [
      "0\n",
      "aの中身は 0 です\n"
     ]
    }
   ],
   "source": [
    "# 変数の代入と利用。aの値を変えてどうなるか試してみましょう。\n",
    "a = 0\n",
    "\n",
    "print(a)  # 変数の場合は\"\"がいりません。\n",
    "print(\"aの中身は\", a, \"です\")  # カンマで区切ると一行に複数の情報を記載できます。"
   ]
  },
  {
   "cell_type": "code",
   "execution_count": 8,
   "metadata": {},
   "outputs": [],
   "source": [
    "# 変数の種類\n",
    "v = 1  # 整数 , int integerの略。\n",
    "v = \"a\"  # 文字 , str stringの略。 \"\" or ''で囲む\n",
    "v = True  # 論理値 , bool　booleanの略。 True or False"
   ]
  },
  {
   "cell_type": "code",
   "execution_count": 9,
   "metadata": {},
   "outputs": [
    {
     "name": "stdout",
     "output_type": "stream",
     "text": [
      "1\n",
      "3\n",
      "5\n"
     ]
    }
   ],
   "source": [
    "# リスト\n",
    "v = [1,3,5]\n",
    "print(v[0])  # Pythonではリストの最初は０で始まるので注意しましょう。\n",
    "print(v[1])\n",
    "print(v[2])"
   ]
  },
  {
   "cell_type": "code",
   "execution_count": 10,
   "metadata": {},
   "outputs": [
    {
     "ename": "IndexError",
     "evalue": "list index out of range",
     "output_type": "error",
     "traceback": [
      "\u001b[0;31m---------------------------------------------------------------------------\u001b[0m",
      "\u001b[0;31mIndexError\u001b[0m                                Traceback (most recent call last)",
      "\u001b[0;32m<ipython-input-10-211a719d447e>\u001b[0m in \u001b[0;36m<module>\u001b[0;34m\u001b[0m\n\u001b[0;32m----> 1\u001b[0;31m \u001b[0mprint\u001b[0m\u001b[0;34m(\u001b[0m\u001b[0mv\u001b[0m\u001b[0;34m[\u001b[0m\u001b[0;36m3\u001b[0m\u001b[0;34m]\u001b[0m\u001b[0;34m)\u001b[0m  \u001b[0;31m# ４番目はないのでこの行でエラーになる。\u001b[0m\u001b[0;34m\u001b[0m\u001b[0;34m\u001b[0m\u001b[0m\n\u001b[0m",
      "\u001b[0;31mIndexError\u001b[0m: list index out of range"
     ]
    }
   ],
   "source": [
    "print(v[3])  # ４番目はないのでこの行でエラーになる。"
   ]
  },
  {
   "cell_type": "code",
   "execution_count": 11,
   "metadata": {},
   "outputs": [
    {
     "name": "stdout",
     "output_type": "stream",
     "text": [
      "[1, 3, 5, 20]\n"
     ]
    }
   ],
   "source": [
    "# リストの末尾に要素を加える\n",
    "v.append(20)\n",
    "print(v)\n",
    "\n",
    "# 更新されたvの値は保存されるので、このセルを実行するたびに増えていきます"
   ]
  },
  {
   "cell_type": "code",
   "execution_count": 12,
   "metadata": {},
   "outputs": [
    {
     "name": "stdout",
     "output_type": "stream",
     "text": [
      "a+b is 1\n",
      "a-b is -5\n",
      "a*b is -6\n",
      "a/b is -0.6666666666666666\n",
      "-1\n"
     ]
    }
   ],
   "source": [
    "# 変数の計算。a、bの値を変えてどうなるかためしてみましょう。\n",
    "a = -2\n",
    "b = 3\n",
    "print(\"a+b is\",a+b)\n",
    "print(\"a-b is\", a-b)\n",
    "print(\"a*b is\", a*b)\n",
    "print(\"a/b is\", a/b)\n",
    "\n",
    "a += 1  # +=1とは1を加算する事です\n",
    "# a = a + 1\n",
    "print(a)"
   ]
  },
  {
   "cell_type": "code",
   "execution_count": 13,
   "metadata": {},
   "outputs": [
    {
     "name": "stdout",
     "output_type": "stream",
     "text": [
      "3\n"
     ]
    }
   ],
   "source": [
    "# 結果は違う変数に代入できます。\n",
    "a=1\n",
    "b=2\n",
    "c=a+b\n",
    "print(c)"
   ]
  },
  {
   "cell_type": "code",
   "execution_count": 14,
   "metadata": {},
   "outputs": [
    {
     "name": "stdout",
     "output_type": "stream",
     "text": [
      "1\n"
     ]
    }
   ],
   "source": [
    "#一度代入された変数はこのノートブックを再起動するか、代入しなおすまで保持されます。\n",
    "print(a)"
   ]
  },
  {
   "cell_type": "code",
   "execution_count": 15,
   "metadata": {},
   "outputs": [
    {
     "name": "stdout",
     "output_type": "stream",
     "text": [
      "False\n",
      "True\n"
     ]
    }
   ],
   "source": [
    "# pythonの世界では「=」は代入を意味します。\n",
    "# 等号記号は「==」になります。\n",
    "a=1\n",
    "b=2\n",
    "print(a==b)  # a is not equal to bなので falseをかえします。\n",
    "\n",
    "\n",
    "a=1\n",
    "b=1\n",
    "print(a==b)  # true\n"
   ]
  },
  {
   "cell_type": "code",
   "execution_count": 16,
   "metadata": {},
   "outputs": [
    {
     "name": "stdout",
     "output_type": "stream",
     "text": [
      "aは２と等しい\n"
     ]
    }
   ],
   "source": [
    "# 条件分岐。aの値を変えてどうなるか試してみましょう。\n",
    "# ちなみにifの中はタブもしくはスペース４つ分です。\n",
    "a = 2\n",
    "\n",
    "if a > 2:\n",
    "    print(\"aは２よりも大きい\")\n",
    "elif a == 2:  # ifではなくて、もし〜〜ならば、\n",
    "    print(\"aは２と等しい\")\n",
    "else:  # もし上記条件のいずれにもあてはまなければ、\n",
    "    print(\"aは２よりも小さい\")"
   ]
  },
  {
   "cell_type": "code",
   "execution_count": 17,
   "metadata": {},
   "outputs": [
    {
     "name": "stdout",
     "output_type": "stream",
     "text": [
      "aは -1 です\n",
      "aは 0 です\n",
      "aは 1 です\n",
      "aは 2 です\n",
      "aは 3 です\n",
      "aは 4 です\n",
      "aは 5 です\n",
      "aは 6 です\n",
      "aは 7 です\n",
      "aは 8 です\n",
      "aは 9 です\n",
      "aは10に達しました\n"
     ]
    }
   ],
   "source": [
    "# くりかえし処理の表現方法です。条件を満たす限り、whileの処理を繰り返します。\n",
    "\n",
    "a=-1\n",
    "while a < 10:  # aが10未満の間、下の処理を繰り返す。\n",
    "    print(\"aは\", a, \"です\")\n",
    "    a+=1  # aに１加算します。\n",
    "print(\"aは10に達しました\")"
   ]
  },
  {
   "cell_type": "code",
   "execution_count": 18,
   "metadata": {},
   "outputs": [
    {
     "name": "stdout",
     "output_type": "stream",
     "text": [
      "1\n",
      "20\n",
      "300\n",
      "500\n"
     ]
    }
   ],
   "source": [
    "# 繰り返し処理2\n",
    "a = [1,20,300,500]  # リスト\n",
    "for n in a:\n",
    "    print(n)"
   ]
  },
  {
   "cell_type": "code",
   "execution_count": 19,
   "metadata": {},
   "outputs": [
    {
     "name": "stdout",
     "output_type": "stream",
     "text": [
      "0 番目の値は 1\n",
      "1 番目の値は 20\n",
      "2 番目の値は 300\n",
      "3 番目の値は 500\n"
     ]
    }
   ],
   "source": [
    "# enumerateを使うことで何番目の要素か同時に取得することができます。\n",
    "\n",
    "for i, n in enumerate(a):\n",
    "    print(i, \"番目の値は\", n)"
   ]
  },
  {
   "cell_type": "code",
   "execution_count": 17,
   "metadata": {},
   "outputs": [
    {
     "name": "stdout",
     "output_type": "stream",
     "text": [
      "4\n",
      "0 番目の値は 1\n",
      "1 番目の値は 20\n",
      "2 番目の値は 300\n",
      "3 番目の値は 500\n"
     ]
    }
   ],
   "source": [
    "# len()を使うことでリストの長さを取得することができます。\n",
    "a = [1,20,300,500]\n",
    "print(len(a))\n",
    "\n",
    "# forと組み合わせることもできます。\n",
    "a = [1,20,300,500]\n",
    "# len(a)は4なので、range(4)は0,1,2,3を返します。\n",
    "for i in range(len(a)):\n",
    "    print(i, \"番目の値は\", a[i])"
   ]
  },
  {
   "cell_type": "markdown",
   "metadata": {},
   "source": [
    "## pythonの基礎その２"
   ]
  },
  {
   "cell_type": "code",
   "execution_count": 20,
   "metadata": {},
   "outputs": [],
   "source": [
    "# 関数の定義と利用\n",
    "# pythonは基本上から一行ずつ順番に実行されていきますが、関数は定義しても呼び出されるまで動きません。\n",
    "\n",
    "def add(x):  # defはdefine,　xは引数（ひきすう）。\n",
    "    x += 1\n",
    "    return x  # return ~~は戻り値\n",
    "\n",
    "\n",
    "def subtract(x,y): #引数は複数指定できます。\n",
    "    z = x - y\n",
    "    return z\n",
    "\n",
    "\n",
    "def add_and_subtract(x,y): #戻り値も複数指定できます。\n",
    "    z1 = x + y\n",
    "    z2 = x - y\n",
    "    return z1, z2\n",
    "\n",
    "\n",
    "def noreturn(z):\n",
    "    print (\"関数noreturnに入力されたデータは\",z,\"です\") #戻り値のない関数も定義できます。"
   ]
  },
  {
   "cell_type": "code",
   "execution_count": 21,
   "metadata": {},
   "outputs": [
    {
     "name": "stdout",
     "output_type": "stream",
     "text": [
      "2\n"
     ]
    }
   ],
   "source": [
    "a= add(1) #simple関数に1を入れると、関数内で1に1を加算して、2を返します。\n",
    "print(a)"
   ]
  },
  {
   "cell_type": "code",
   "execution_count": 23,
   "metadata": {},
   "outputs": [
    {
     "name": "stdout",
     "output_type": "stream",
     "text": [
      "-1\n",
      "3 -1\n",
      "関数noreturnに入力されたデータは 2 です\n"
     ]
    }
   ],
   "source": [
    "a = subtract(1,2)  # subtract関数に1と2を入れると、関数内で1-2を計算して、-1を返します。\n",
    "print(a)\n",
    "\n",
    "z1,z2 = add_and_subtract(1,2)  # add_and_subtract関数に1と2を入れると、関数内で1+2と1-2を計算して、3と-1を返します。\n",
    "print(z1, z2)\n",
    "\n",
    "noreturn(2)  # noreturn関数に2を入れると、戻り値はありませんが、関数内でprintされます。"
   ]
  },
  {
   "cell_type": "code",
   "execution_count": 23,
   "metadata": {},
   "outputs": [],
   "source": [
    "# プログラムが大きくなり、変数と関数が増えたり冗長的になると全体像が把握しにくくなります。「クラス」を利用しましょう。\n",
    "\n",
    "class Plant:\n",
    "    # クラスの中には変数と関数を定義できます。\n",
    "    # このクラスの中に定義された変数は「プロパティ」、関数は「メソッド」と呼ばれます。\n",
    "    # クラスの中に定義された変数と関数は「クラス変数」と「クラスメソッド」と呼ばれます。\n",
    "    def __init__(self):\n",
    "        # __init__はクラスの初期化を行う関数です。\n",
    "        # クラスを利用する際に、この関数が自動的に実行されます。\n",
    "        self.plantation_date = ''\n",
    "        self.biomass = ''\n",
    "        self.height = ''        \n",
    "    def get_info(self):\n",
    "        # クラスの中に定義された関数は、第一引数にselfを指定する必要があります。\n",
    "        # selfはクラス自身を指します。\n",
    "        # self.変数名でクラス変数を利用できます。\n",
    "        message = \"planted in {}, biomass is {}, height is {}\".format(self.plantation_date, self.biomass, self.height)\n",
    "        return message"
   ]
  },
  {
   "cell_type": "code",
   "execution_count": 26,
   "metadata": {},
   "outputs": [
    {
     "name": "stdout",
     "output_type": "stream",
     "text": [
      "planted in 2018/5/1, biomass is 1.2, height is 10\n",
      "planted in 2018/5/1, biomass is 2.1, height is 50\n"
     ]
    }
   ],
   "source": [
    "# 自身でクラスを定義することは少々難しいかもしれません。\n",
    "# クラスの利用方法のみを理解するだけでも最初は十分です。\n",
    "rice = Plant()\n",
    "rice.plantation_date = '2018/5/1'\n",
    "rice.biomass = 1.2\n",
    "rice.height = 10\n",
    "\n",
    "corn = Plant()\n",
    "corn.plantation_date = '2018/5/1'\n",
    "corn.biomass = 2.1\n",
    "corn.height = 50\n",
    "\n",
    "\n",
    "print(rice.get_info())\n",
    "print(corn.get_info())\n"
   ]
  },
  {
   "cell_type": "code",
   "execution_count": null,
   "metadata": {},
   "outputs": [],
   "source": [
    "# クラスを使わなければ変数を階層構造無しでそれぞれ定義しなければなりません。\n",
    "# 変数が増えると管理が大変になります。\n",
    "\n",
    "rice_plantation_date = '2018/5/1'\n",
    "rice_biomass = 1.2\n",
    "rice_height = 10\n",
    "\n",
    "corn_plantation_date = '2018/5/1'\n",
    "corn_biomass = 2.1\n",
    "corn_height = 50"
   ]
  },
  {
   "cell_type": "markdown",
   "metadata": {},
   "source": [
    "## pythonの基礎その３"
   ]
  },
  {
   "cell_type": "markdown",
   "metadata": {},
   "source": [
    "pythonでは関数やクラスを定義し、駆使することで、プログラムを簡潔に記述することができます。しかしながら、必要な機能をすべて自分で定義するのは大変です。そのようなことをしなくても、pythonには標準で多くのライブラリが用意されています。それらを利用するには「import」を利用します。"
   ]
  },
  {
   "cell_type": "code",
   "execution_count": 8,
   "metadata": {},
   "outputs": [
    {
     "name": "stdout",
     "output_type": "stream",
     "text": [
      "2023-11-04\n",
      "2023-11-14\n",
      "2023-11-04 10:21:02.515728\n"
     ]
    }
   ],
   "source": [
    "# 例えばdatetimeというライブラリを使うと、日付の計算が簡単にできます。\n",
    "# このライブラリは標準で入っているので、インストールは不要です。\n",
    "import datetime\n",
    "today = datetime.date.today()\n",
    "print(today)\n",
    "# 今日から10日後の日付を計算する。\n",
    "ten_days_later = today + datetime.timedelta(days=10)\n",
    "print(ten_days_later)\n",
    "# 時間も取得できます。\n",
    "now = datetime.datetime.now()\n",
    "print(now)"
   ]
  },
  {
   "cell_type": "markdown",
   "metadata": {},
   "source": [
    "数値計算にはnumpyというライブラリをインポートし、利用することが多いです。\n",
    "```python\n",
    "import numpy as np\n",
    "a = np.array([1,2,3])\n",
    "print(a)  # [1 2 3]\n",
    "```\n",
    "import numpyとしても使用できますが、下のように文字数が増えるので、npという別名をつけて利用することが多いです。\n",
    "```python\n",
    "import numpy\n",
    "a = numpy.array([1,2,3])\n",
    "print(a)  # [1 2 3]\n",
    "```\n",
    "\n",
    "画像は３次元配列で表現され、必ずといっていいほど使われるので、numpyの使い方は覚えておきましょう。"
   ]
  },
  {
   "cell_type": "code",
   "execution_count": 11,
   "metadata": {},
   "outputs": [
    {
     "name": "stdout",
     "output_type": "stream",
     "text": [
      "[1 2 3 4 5]\n",
      "15\n",
      "3.0\n",
      "3.0\n",
      "1.4142135623730951\n",
      "[1.         1.41421356 1.73205081 2.         2.23606798]\n",
      "[0.         0.69314718 1.09861229 1.38629436 1.60943791]\n",
      "[  2.71828183   7.3890561   20.08553692  54.59815003 148.4131591 ]\n",
      "(5,)\n",
      "int64\n",
      "_______\n",
      "(32, 32, 3)\n",
      "uint8\n"
     ]
    }
   ],
   "source": [
    "import numpy as np\n",
    "a = np.array([1,2,3,4,5])  # numpyのarrayという関数を利用して、リストをnumpyの配列に変換します。\n",
    "\n",
    "# リストと異なり、numpyの配列は数値計算に特化しているので、合計や平均などの計算が簡単にできます。\n",
    "print(a)\n",
    "print(np.sum(a))  # sumは合計を意味します。\n",
    "print(np.mean(a))  # meanは平均を意味します。\n",
    "print(np.median(a))  # medianは中央値を意味します。\n",
    "print(np.std(a))  # stdは標準偏差を意味します。\n",
    "print(np.sqrt(a))  # sqrtは平方根を意味します。\n",
    "print(np.log(a))  # logは自然対数を意味します。\n",
    "print(np.exp(a))  # expは指数関数を意味します。\n",
    "\n",
    "print(a.shape)  # shapeは配列の形状を意味します。\n",
    "print(a.dtype)  # dtypeは配列のデータ型を意味します。\n",
    "print(\"_______\")\n",
    "\n",
    "# 多次元配列の作成\n",
    "image = np.zeros((32,32,3), dtype=np.uint8)  # 32x32のRGB画像を作成します。\n",
    "print(image.shape)  \n",
    "print(image.dtype)\n"
   ]
  },
  {
   "cell_type": "markdown",
   "metadata": {},
   "source": [
    "## フォルダ・ファイル操作"
   ]
  },
  {
   "cell_type": "code",
   "execution_count": null,
   "metadata": {},
   "outputs": [],
   "source": []
  },
  {
   "cell_type": "markdown",
   "metadata": {},
   "source": [
    "## マジックコマンド（Colaboratoryのみ）の活用"
   ]
  },
  {
   "cell_type": "code",
   "execution_count": 14,
   "metadata": {},
   "outputs": [
    {
     "name": "stdout",
     "output_type": "stream",
     "text": [
      "PlantServation.ipynb                   globalwheat2021.ipynb\n",
      "WEIPS.ipynb                            \u001b[34mimgs\u001b[m\u001b[m\n",
      "_rice_seed_shape_analysis copy.ipynb   plantseg.ipynb\n",
      "apple_leaf.ipynb                       plantvilllage.ipynb\n",
      "\u001b[34massets\u001b[m\u001b[m                                 pollencounter.ipynb\n",
      "basics.ipynb                           rice_seed_shape_analysis.ipynb\n",
      "chronoroot.ipynb                       riceyieldcnn.ipynb\n",
      "dayflower_stomata_quantification.ipynb sai.ipynb\n",
      "env_data_analysis.ipynb                u2netp.ipynb\n"
     ]
    }
   ],
   "source": [
    "# Colaboratoy (Jupyter Notebook)では、シェルコマンドを実行することができます。\n",
    "# シェルコマンドとは、コマンドプロンプトやターミナルで実行するコマンドのことです。\n",
    "# 例えば、lsコマンドはファイル一覧を表示するコマンドです。\n",
    "!ls\n"
   ]
  },
  {
   "cell_type": "code",
   "execution_count": null,
   "metadata": {},
   "outputs": [],
   "source": []
  },
  {
   "cell_type": "markdown",
   "metadata": {},
   "source": []
  },
  {
   "cell_type": "markdown",
   "metadata": {},
   "source": []
  },
  {
   "cell_type": "code",
   "execution_count": null,
   "metadata": {},
   "outputs": [],
   "source": []
  },
  {
   "cell_type": "code",
   "execution_count": null,
   "metadata": {},
   "outputs": [],
   "source": []
  }
 ],
 "metadata": {
  "kernelspec": {
   "display_name": "Python 3",
   "language": "python",
   "name": "python3"
  },
  "language_info": {
   "codemirror_mode": {
    "name": "ipython",
    "version": 3
   },
   "file_extension": ".py",
   "mimetype": "text/x-python",
   "name": "python",
   "nbconvert_exporter": "python",
   "pygments_lexer": "ipython3",
   "version": "3.9.12"
  },
  "orig_nbformat": 4
 },
 "nbformat": 4,
 "nbformat_minor": 2
}
